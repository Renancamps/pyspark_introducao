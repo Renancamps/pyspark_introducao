{
 "cells": [
  {
   "cell_type": "code",
   "execution_count": 1,
   "id": "89b98ff4",
   "metadata": {},
   "outputs": [],
   "source": [
    "from pyspark.sql import SparkSession\n",
    "from pyspark.sql.types import StructType,StructField, StringType, IntegerType\n"
   ]
  },
  {
   "cell_type": "markdown",
   "id": "9acfe064",
   "metadata": {},
   "source": [
    "### **Spark Dataframe** ###\n",
    "Um DataFrame spark é uma coleção de dados distribuido, organizado em linhas e colunas, cada coluna num Dataframe tem um nome e um tipo de dados associado. <br>\n",
    "Podemos considerar um Dataframe spark com tabelas de bancos de dados relacionais com técnicas de otimização para processamento de dados distribuidos, possibilitando a manipulação de grandes volumes de dados <br><br>\n",
    "**Alguns exemplos de fontes de dados para Dataframes spark** <br>\n",
    "\n",
    "• **Arquivos estruturados, semiestruturados e não estruturados;<br>\n",
    "• Fluxos de dados streaming;<br>\n",
    "• Tabelas de bancos de dados relacionais e não relacionais;**<br>\n"
   ]
  },
  {
   "cell_type": "code",
   "execution_count": 2,
   "id": "9af98a6f",
   "metadata": {},
   "outputs": [],
   "source": [
    "spark = SparkSession.builder\\\n",
    ".config('spark.executor.memory', '8G')\\\n",
    ".getOrCreate()"
   ]
  },
  {
   "cell_type": "code",
   "execution_count": 3,
   "id": "99ce39b8",
   "metadata": {},
   "outputs": [],
   "source": [
    "data = [(\"James\",\"\",\"Smith\",\"36636\",\"M\",3000),\n",
    "    (\"Michael\",\"Rose\",\"\",\"40288\",\"M\",4000),\n",
    "    (\"Robert\",\"\",\"Williams\",\"42114\",\"M\",4000),\n",
    "    (\"Maria\",\"Anne\",\"Jones\",\"39192\",\"F\",4000),\n",
    "    (\"Jen\",\"Mary\",\"Brown\",\"\",\"F\",-1)\n",
    "  ]\n",
    "\n"
   ]
  },
  {
   "cell_type": "markdown",
   "id": "1b1e612e",
   "metadata": {},
   "source": [
    "## **Schema e Criação de DataFrames**"
   ]
  },
  {
   "cell_type": "markdown",
   "id": "0f489c69",
   "metadata": {},
   "source": [
    "• Especificação de tipos das colunas de um DataFrame. <br>\n",
    "• Usados na leitura de dados externos e criação de DataFrames <br>\n",
    "• Criados com Structs ou com String DDL (Semelhante SQL padrão) <br>\n",
    "• Inferencia ou informado ao dataframe. <br>\n",
    "\n",
    "**Beneficios de informar schema num dataframe** <br>\n",
    "• Inferir tipos é custoso <br>\n",
    "• evita erros de tipagem <br>\n"
   ]
  },
  {
   "cell_type": "code",
   "execution_count": 6,
   "id": "2276e6cb",
   "metadata": {},
   "outputs": [],
   "source": [
    "schema = StructType([ \\\n",
    "    StructField(\"firstname\",StringType(),True), \\\n",
    "    StructField(\"middlename\",StringType(),True), \\\n",
    "    StructField(\"lastname\",StringType(),True), \\\n",
    "    StructField(\"id\", StringType(), True), \\\n",
    "    StructField(\"gender\", StringType(), True), \\\n",
    "    StructField(\"salary\", IntegerType(), True) \\\n",
    "  ])\n",
    " "
   ]
  },
  {
   "cell_type": "code",
   "execution_count": 7,
   "id": "3d8be5e7",
   "metadata": {},
   "outputs": [],
   "source": [
    "df = spark.createDataFrame(data=data,schema=schema)\n",
    "\n"
   ]
  },
  {
   "cell_type": "code",
   "execution_count": 8,
   "id": "fac18619",
   "metadata": {},
   "outputs": [
    {
     "name": "stdout",
     "output_type": "stream",
     "text": [
      "root\n",
      " |-- firstname: string (nullable = true)\n",
      " |-- middlename: string (nullable = true)\n",
      " |-- lastname: string (nullable = true)\n",
      " |-- id: string (nullable = true)\n",
      " |-- gender: string (nullable = true)\n",
      " |-- salary: integer (nullable = true)\n",
      "\n"
     ]
    }
   ],
   "source": [
    "df.printSchema()"
   ]
  },
  {
   "cell_type": "code",
   "execution_count": 9,
   "id": "aed9839e",
   "metadata": {
    "scrolled": true
   },
   "outputs": [
    {
     "name": "stdout",
     "output_type": "stream",
     "text": [
      "+---------+----------+--------+-----+------+------+\n",
      "|firstname|middlename|lastname|id   |gender|salary|\n",
      "+---------+----------+--------+-----+------+------+\n",
      "|James    |          |Smith   |36636|M     |3000  |\n",
      "|Michael  |Rose      |        |40288|M     |4000  |\n",
      "|Robert   |          |Williams|42114|M     |4000  |\n",
      "|Maria    |Anne      |Jones   |39192|F     |4000  |\n",
      "|Jen      |Mary      |Brown   |     |F     |-1    |\n",
      "+---------+----------+--------+-----+------+------+\n",
      "\n"
     ]
    }
   ],
   "source": [
    "df.show(truncate=False)"
   ]
  },
  {
   "cell_type": "code",
   "execution_count": 26,
   "id": "350720f2",
   "metadata": {},
   "outputs": [],
   "source": [
    "jsonString = '[{ \"RecordNumber\": 2,\"Zipcode\": 704,\"ZipCodeType\": \"STANDARD\",\"City\":\"PASEO COSTA DEL SUR\", \"State\":\"PR\"}\\\n",
    ",{ \"RecordNumber\": 10, \"Zipcode\": 709, \"ZipCodeType\":\"STANDARD\",  \"City\": \"BDA SAN LUIS\", \"State\":\"PR\"}]'"
   ]
  },
  {
   "cell_type": "markdown",
   "id": "10adf106",
   "metadata": {},
   "source": [
    "## Criando schemas com DDL"
   ]
  },
  {
   "cell_type": "code",
   "execution_count": 1,
   "id": "86e902f1",
   "metadata": {},
   "outputs": [],
   "source": [
    "json_schema='RecordNumber int, Zipcode int, ZipCodeType string, City string, State string'"
   ]
  },
  {
   "cell_type": "code",
   "execution_count": 28,
   "id": "314e67e1",
   "metadata": {},
   "outputs": [
    {
     "name": "stdout",
     "output_type": "stream",
     "text": [
      "root\n",
      " |-- RecordNumber: integer (nullable = true)\n",
      " |-- Zipcode: integer (nullable = true)\n",
      " |-- ZipCodeType: string (nullable = true)\n",
      " |-- City: string (nullable = true)\n",
      " |-- State: string (nullable = true)\n",
      "\n",
      "+------------+-------+-----------+-------------------+-----+\n",
      "|RecordNumber|Zipcode|ZipCodeType|City               |State|\n",
      "+------------+-------+-----------+-------------------+-----+\n",
      "|2           |704    |STANDARD   |PASEO COSTA DEL SUR|PR   |\n",
      "|10          |709    |STANDARD   |BDA SAN LUIS       |PR   |\n",
      "+------------+-------+-----------+-------------------+-----+\n",
      "\n"
     ]
    }
   ],
   "source": [
    "sc = spark.sparkContext\n",
    "\n",
    "df = spark.read.json(sc.parallelize([jsonString]), schema=json_schema)\n",
    "\n",
    "df.printSchema()\n",
    "df.show(truncate=False)\n"
   ]
  },
  {
   "cell_type": "code",
   "execution_count": null,
   "id": "2ddf20b8",
   "metadata": {},
   "outputs": [],
   "source": []
  }
 ],
 "metadata": {
  "kernelspec": {
   "display_name": "Python 3 (ipykernel)",
   "language": "python",
   "name": "python3"
  },
  "language_info": {
   "codemirror_mode": {
    "name": "ipython",
    "version": 3
   },
   "file_extension": ".py",
   "mimetype": "text/x-python",
   "name": "python",
   "nbconvert_exporter": "python",
   "pygments_lexer": "ipython3",
   "version": "3.11.6"
  }
 },
 "nbformat": 4,
 "nbformat_minor": 5
}
