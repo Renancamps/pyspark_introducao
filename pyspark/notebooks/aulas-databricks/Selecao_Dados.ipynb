{
 "cells": [
  {
   "cell_type": "code",
   "execution_count": null,
   "id": "cd47d334",
   "metadata": {},
   "outputs": [],
   "source": [
    "from pyspark.sql import SparkSession\n",
    "from pyspark.sql.functions import col\n",
    "from pyspark.sql.types import StructType,StructField, StringType, IntegerType, FloatType\n",
    "import pyspark.sql.functions as F"
   ]
  },
  {
   "cell_type": "code",
   "execution_count": null,
   "id": "3a3ec350",
   "metadata": {},
   "outputs": [],
   "source": [
    "\n",
    "spark = SparkSession.builder \\\n",
    "    .master('local[*]') \\\n",
    "    .appName(\"Iniciando com Spark\") \\\n",
    "    .getOrCreate()"
   ]
  },
  {
   "cell_type": "markdown",
   "id": "53ddf012",
   "metadata": {},
   "source": [
    "### Lendo Csv"
   ]
  },
  {
   "cell_type": "code",
   "execution_count": null,
   "id": "21413525",
   "metadata": {},
   "outputs": [],
   "source": [
    "path_orders = '../../datalake/transient/csv/olist/orders'\n",
    "df_orders = spark.read.format('csv')\\\n",
    ".option(\"header\", True)\\\n",
    ".option(\"sep\", \",\")\\\n",
    ".option(\"quote\",\"\\\"\")\\\n",
    ".option(\"inferSchema\",True)\\\n",
    ".load(path_orders)\n",
    "#transient\\csv\\olist"
   ]
  },
  {
   "cell_type": "code",
   "execution_count": null,
   "id": "0cc0276e",
   "metadata": {},
   "outputs": [],
   "source": [
    "df_orders.show(5)"
   ]
  },
  {
   "cell_type": "markdown",
   "id": "79ab22c3",
   "metadata": {},
   "source": [
    "### Escrevendo Parquet"
   ]
  },
  {
   "cell_type": "code",
   "execution_count": null,
   "id": "337aafd9",
   "metadata": {},
   "outputs": [],
   "source": [
    "path_orders = '../../datalake/bronze/csv/olist/orders'\n",
    "df_orders.write.format('parquet').mode('overwrite').save(path_orders )"
   ]
  },
  {
   "cell_type": "markdown",
   "id": "85cbdb36",
   "metadata": {},
   "source": [
    "### Selecionando e manipulando os dados"
   ]
  },
  {
   "cell_type": "code",
   "execution_count": null,
   "id": "d57e72d8",
   "metadata": {},
   "outputs": [],
   "source": [
    "df_orders.select('order_id','customer_id','order_status','order_purchase_timestamp','order_approved_at','order_delivered_carrier_date',\\\n",
    "                'order_delivered_customer_date','order_estimated_delivery_date').show(5,truncate=False)"
   ]
  },
  {
   "cell_type": "code",
   "execution_count": 105,
   "id": "d4177a62",
   "metadata": {},
   "outputs": [
    {
     "name": "stdout",
     "output_type": "stream",
     "text": [
      "root\n",
      " |-- order_id: string (nullable = true)\n",
      " |-- customer_id: string (nullable = true)\n",
      " |-- order_status: string (nullable = true)\n",
      " |-- order_purchase_timestamp: string (nullable = true)\n",
      " |-- order_approved_at: string (nullable = true)\n",
      " |-- order_delivered_carrier_date: string (nullable = true)\n",
      " |-- order_delivered_customer_date: string (nullable = true)\n",
      " |-- order_estimated_delivery_date: string (nullable = true)\n",
      "\n"
     ]
    }
   ],
   "source": [
    "df_orders.printSchema()"
   ]
  },
  {
   "cell_type": "code",
   "execution_count": 106,
   "id": "7e326c58",
   "metadata": {},
   "outputs": [
    {
     "name": "stdout",
     "output_type": "stream",
     "text": [
      "+--------------------------------+--------------------------------+------------+------------------------+-------------------+----------------------------+-----------------------------+-----------------------------+\n",
      "|order_id                        |customer_id                     |order_status|order_purchase_timestamp|order_approved_at  |order_delivered_carrier_date|order_delivered_customer_date|order_estimated_delivery_date|\n",
      "+--------------------------------+--------------------------------+------------+------------------------+-------------------+----------------------------+-----------------------------+-----------------------------+\n",
      "|e481f51cbdc54678b7cc49136f2d6af7|9ef432eb6251297304e76186b10a928d|delivered   |2017-10-02 10:56:33     |2017-10-02 11:07:15|2017-10-04 19:55:00         |2017-10-10 21:25:13          |2017-10-18 00:00:00          |\n",
      "|53cdb2fc8bc7dce0b6741e2150273451|b0830fb4747a6c6d20dea0b8c802d7ef|delivered   |2018-07-24 20:41:37     |2018-07-26 03:24:27|2018-07-26 14:31:00         |2018-08-07 15:27:45          |2018-08-13 00:00:00          |\n",
      "|47770eb9100c2d0c44946d9cf07ec65d|41ce2a54c0b03bf3443c3d931a367089|delivered   |2018-08-08 08:38:49     |2018-08-08 08:55:23|2018-08-08 13:50:00         |2018-08-17 18:06:29          |2018-09-04 00:00:00          |\n",
      "|949d5b44dbf5de918fe9c16f97b45f8a|f88197465ea7920adcdbec7375364d82|delivered   |2017-11-18 19:28:06     |2017-11-18 19:45:59|2017-11-22 13:39:59         |2017-12-02 00:28:42          |2017-12-15 00:00:00          |\n",
      "|ad21c59c0840e6cb83a9ceb5573f8159|8ab97904e6daea8866dbdbc4fb7aad2c|delivered   |2018-02-13 21:18:39     |2018-02-13 22:20:29|2018-02-14 19:46:34         |2018-02-16 18:17:02          |2018-02-26 00:00:00          |\n",
      "+--------------------------------+--------------------------------+------------+------------------------+-------------------+----------------------------+-----------------------------+-----------------------------+\n",
      "only showing top 5 rows\n",
      "\n"
     ]
    }
   ],
   "source": [
    "df_orders.select('order_id','customer_id','order_status','order_purchase_timestamp','order_approved_at','order_delivered_carrier_date',\\\n",
    "                'order_delivered_customer_date','order_estimated_delivery_date').show(5,truncate=False)"
   ]
  },
  {
   "cell_type": "markdown",
   "id": "08701baf",
   "metadata": {},
   "source": [
    "### Colunas"
   ]
  },
  {
   "cell_type": "markdown",
   "id": "b6b1eff0",
   "metadata": {},
   "source": [
    "As colunas são unidades de manipulação de dados do Spark. \n",
    "Podemos referencias colunas de algumas formas <br>\n",
    "* col('nome_coluna') <br>\n",
    "* dataframe['nome_coluna'] <br>\n",
    "* dataframe.nome_coluna <br>"
   ]
  },
  {
   "cell_type": "code",
   "execution_count": 104,
   "id": "ae8b2394",
   "metadata": {},
   "outputs": [
    {
     "name": "stdout",
     "output_type": "stream",
     "text": [
      "+--------------------+--------------------+------------+---------------+----------------+----------------+\n",
      "|            order_id|         customer_id|order_status|aproved_year_at|aproved_month_at|aproved_month_at|\n",
      "+--------------------+--------------------+------------+---------------+----------------+----------------+\n",
      "|e481f51cbdc54678b...|9ef432eb625129730...|   delivered|           2017|              10|     02 11:07:15|\n",
      "|53cdb2fc8bc7dce0b...|b0830fb4747a6c6d2...|   delivered|           2018|              07|     26 03:24:27|\n",
      "|47770eb9100c2d0c4...|41ce2a54c0b03bf34...|   delivered|           2018|              08|     08 08:55:23|\n",
      "|949d5b44dbf5de918...|f88197465ea7920ad...|   delivered|           2017|              11|     18 19:45:59|\n",
      "|ad21c59c0840e6cb8...|8ab97904e6daea886...|   delivered|           2018|              02|     13 22:20:29|\n",
      "+--------------------+--------------------+------------+---------------+----------------+----------------+\n",
      "only showing top 5 rows\n",
      "\n"
     ]
    }
   ],
   "source": [
    "from pyspark.sql.functions import col, round\n",
    "(\n",
    "df_orders.select('order_id', 'customer_id', 'order_status', \n",
    "F.split(F.col('order_approved_at'), '-').getItem(0).alias('aproved_year_at'),\n",
    "F.split(df_orders['order_approved_at'], '-').getItem(1).alias('aproved_month_at'),\n",
    "F.split(df_orders.order_approved_at, '-').getItem(2).alias('aproved_month_at')).show(5)\n",
    ")"
   ]
  },
  {
   "cell_type": "markdown",
   "id": "7c0a1246",
   "metadata": {},
   "source": [
    "### Expressões"
   ]
  },
  {
   "cell_type": "code",
   "execution_count": 103,
   "id": "81227d1b",
   "metadata": {},
   "outputs": [
    {
     "name": "stdout",
     "output_type": "stream",
     "text": [
      "+--------------------+--------------------+------------+-------------------+\n",
      "|            order_id|         customer_id|order_status|upper(order_status)|\n",
      "+--------------------+--------------------+------------+-------------------+\n",
      "|e481f51cbdc54678b...|9ef432eb625129730...|   delivered|          DELIVERED|\n",
      "|53cdb2fc8bc7dce0b...|b0830fb4747a6c6d2...|   delivered|          DELIVERED|\n",
      "|47770eb9100c2d0c4...|41ce2a54c0b03bf34...|   delivered|          DELIVERED|\n",
      "|949d5b44dbf5de918...|f88197465ea7920ad...|   delivered|          DELIVERED|\n",
      "|ad21c59c0840e6cb8...|8ab97904e6daea886...|   delivered|          DELIVERED|\n",
      "+--------------------+--------------------+------------+-------------------+\n",
      "only showing top 5 rows\n",
      "\n"
     ]
    }
   ],
   "source": [
    "from pyspark.sql.functions import expr\n",
    "\n",
    "(\n",
    "    df_orders.select('order_id', 'customer_id', 'order_status', \n",
    "    F.expr('upper(order_status)'), )                    \n",
    "    .show(5)\n",
    ")"
   ]
  },
  {
   "cell_type": "code",
   "execution_count": 113,
   "id": "e1f31fd5",
   "metadata": {},
   "outputs": [
    {
     "name": "stdout",
     "output_type": "stream",
     "text": [
      "+--------------------+--------------------+------------+-------------------+----+-----+---+\n",
      "|            order_id|         customer_id|order_status|upper(order_status)|year|month|day|\n",
      "+--------------------+--------------------+------------+-------------------+----+-----+---+\n",
      "|e481f51cbdc54678b...|9ef432eb625129730...|   delivered|          DELIVERED|2017|   10| 02|\n",
      "|53cdb2fc8bc7dce0b...|b0830fb4747a6c6d2...|   delivered|          DELIVERED|2018|   07| 26|\n",
      "|47770eb9100c2d0c4...|41ce2a54c0b03bf34...|   delivered|          DELIVERED|2018|   08| 08|\n",
      "|949d5b44dbf5de918...|f88197465ea7920ad...|   delivered|          DELIVERED|2017|   11| 18|\n",
      "|ad21c59c0840e6cb8...|8ab97904e6daea886...|   delivered|          DELIVERED|2018|   02| 13|\n",
      "+--------------------+--------------------+------------+-------------------+----+-----+---+\n",
      "only showing top 5 rows\n",
      "\n"
     ]
    }
   ],
   "source": [
    "from pyspark.sql.functions import expr\n",
    "(\n",
    "    df_orders.select('order_id', 'customer_id', 'order_status', \n",
    "    expr('upper(order_status)'),\n",
    "    expr('substring(order_approved_at, 0,4) as year'),\n",
    "    expr('substring(order_approved_at, 6,2) as month'),\n",
    "    expr('substring(order_approved_at, 9,2) as day'))                    \n",
    "    .show(5)\n",
    ")"
   ]
  },
  {
   "cell_type": "code",
   "execution_count": 115,
   "id": "aa2f2dd3",
   "metadata": {},
   "outputs": [
    {
     "name": "stdout",
     "output_type": "stream",
     "text": [
      "+--------------------+------------+-----------------------------+\n",
      "|            order_id|order_status|order_estimated_delivery_date|\n",
      "+--------------------+------------+-----------------------------+\n",
      "|e481f51cbdc54678b...|   delivered|          2017-10-18 00:00:00|\n",
      "|53cdb2fc8bc7dce0b...|   delivered|          2018-08-13 00:00:00|\n",
      "|47770eb9100c2d0c4...|   delivered|          2018-09-04 00:00:00|\n",
      "|949d5b44dbf5de918...|   delivered|          2017-12-15 00:00:00|\n",
      "|ad21c59c0840e6cb8...|   delivered|          2018-02-26 00:00:00|\n",
      "|a4591c265e18cb1dc...|   delivered|          2017-08-01 00:00:00|\n",
      "|136cce7faa42fdb2c...|    invoiced|          2017-05-09 00:00:00|\n",
      "|6514b8ad8028c9f2c...|   delivered|          2017-06-07 00:00:00|\n",
      "|76c6e866289321a7c...|   delivered|          2017-03-06 00:00:00|\n",
      "|e69bfb5eb88e0ed6a...|   delivered|          2017-08-23 00:00:00|\n",
      "+--------------------+------------+-----------------------------+\n",
      "only showing top 10 rows\n",
      "\n"
     ]
    }
   ],
   "source": [
    "\n",
    "cols = ['order_id', 'order_status', 'order_estimated_delivery_date']\n",
    "df_orders.select(cols).show(10)"
   ]
  },
  {
   "cell_type": "code",
   "execution_count": 116,
   "id": "fdf0a109",
   "metadata": {},
   "outputs": [
    {
     "name": "stdout",
     "output_type": "stream",
     "text": [
      "+--------------------+--------------------+------------+-----------------------------+\n",
      "|         customer_id|            order_id|order_status|order_estimated_delivery_date|\n",
      "+--------------------+--------------------+------------+-----------------------------+\n",
      "|9ef432eb625129730...|e481f51cbdc54678b...|   delivered|          2017-10-18 00:00:00|\n",
      "|b0830fb4747a6c6d2...|53cdb2fc8bc7dce0b...|   delivered|          2018-08-13 00:00:00|\n",
      "|41ce2a54c0b03bf34...|47770eb9100c2d0c4...|   delivered|          2018-09-04 00:00:00|\n",
      "|f88197465ea7920ad...|949d5b44dbf5de918...|   delivered|          2017-12-15 00:00:00|\n",
      "|8ab97904e6daea886...|ad21c59c0840e6cb8...|   delivered|          2018-02-26 00:00:00|\n",
      "|503740e9ca751ccdd...|a4591c265e18cb1dc...|   delivered|          2017-08-01 00:00:00|\n",
      "|ed0271e0b7da060a3...|136cce7faa42fdb2c...|    invoiced|          2017-05-09 00:00:00|\n",
      "|9bdf08b4b3b52b552...|6514b8ad8028c9f2c...|   delivered|          2017-06-07 00:00:00|\n",
      "|f54a9f0e6b351c431...|76c6e866289321a7c...|   delivered|          2017-03-06 00:00:00|\n",
      "|31ad1d1b63eb99624...|e69bfb5eb88e0ed6a...|   delivered|          2017-08-23 00:00:00|\n",
      "+--------------------+--------------------+------------+-----------------------------+\n",
      "only showing top 10 rows\n",
      "\n"
     ]
    }
   ],
   "source": [
    "cols = ['order_id', 'order_status', 'order_estimated_delivery_date']\n",
    "df_orders.select('customer_id', *cols).show(10)"
   ]
  },
  {
   "cell_type": "markdown",
   "id": "bfc44145",
   "metadata": {},
   "source": [
    "Observações:\n",
    "* Podemos realizar operações sobre colunas selecionadas. \n",
    "* O DataFrame resultante resultante das operações vai obedeçer a order das colunas em que ele foi criado."
   ]
  },
  {
   "cell_type": "code",
   "execution_count": 117,
   "id": "64e08625",
   "metadata": {},
   "outputs": [
    {
     "name": "stdout",
     "output_type": "stream",
     "text": [
      "+--------------------------------+--------------------------------+------------+------------------------+-------------------+----------------------------+-----------------------------+-----------------------------+\n",
      "|order_id                        |customer_id                     |order_status|order_purchase_timestamp|order_approved_at  |order_delivered_carrier_date|order_delivered_customer_date|order_estimated_delivery_date|\n",
      "+--------------------------------+--------------------------------+------------+------------------------+-------------------+----------------------------+-----------------------------+-----------------------------+\n",
      "|e481f51cbdc54678b7cc49136f2d6af7|9ef432eb6251297304e76186b10a928d|delivered   |2017-10-02 10:56:33     |2017-10-02 11:07:15|2017-10-04 19:55:00         |2017-10-10 21:25:13          |2017-10-18 00:00:00          |\n",
      "|53cdb2fc8bc7dce0b6741e2150273451|b0830fb4747a6c6d20dea0b8c802d7ef|delivered   |2018-07-24 20:41:37     |2018-07-26 03:24:27|2018-07-26 14:31:00         |2018-08-07 15:27:45          |2018-08-13 00:00:00          |\n",
      "+--------------------------------+--------------------------------+------------+------------------------+-------------------+----------------------------+-----------------------------+-----------------------------+\n",
      "only showing top 2 rows\n",
      "\n"
     ]
    }
   ],
   "source": [
    "df_orders.show(2,truncate=False)"
   ]
  },
  {
   "cell_type": "code",
   "execution_count": 118,
   "id": "1dd8082b",
   "metadata": {},
   "outputs": [],
   "source": [
    "df_orders_selected =  (\n",
    "    df_orders.select('order_id', 'customer_id', 'order_status', \n",
    "    expr('upper(order_status)'),\n",
    "    expr('substring(order_approved_at, 0,4) as year'),\n",
    "    expr('substring(order_approved_at, 6,2) as month'),\n",
    "    expr('substring(order_approved_at, 9,2) as day'))   \n",
    ")"
   ]
  },
  {
   "cell_type": "code",
   "execution_count": 125,
   "id": "4fd5bbac",
   "metadata": {},
   "outputs": [
    {
     "name": "stdout",
     "output_type": "stream",
     "text": [
      "+--------------------+--------------------+------------+----------+\n",
      "|            order_id|         customer_id|order_status|      date|\n",
      "+--------------------+--------------------+------------+----------+\n",
      "|e481f51cbdc54678b...|9ef432eb625129730...|   DELIVERED|2017-10-02|\n",
      "|53cdb2fc8bc7dce0b...|b0830fb4747a6c6d2...|   DELIVERED|2018-07-26|\n",
      "|47770eb9100c2d0c4...|41ce2a54c0b03bf34...|   DELIVERED|2018-08-08|\n",
      "|949d5b44dbf5de918...|f88197465ea7920ad...|   DELIVERED|2017-11-18|\n",
      "|ad21c59c0840e6cb8...|8ab97904e6daea886...|   DELIVERED|2018-02-13|\n",
      "|a4591c265e18cb1dc...|503740e9ca751ccdd...|   DELIVERED|2017-07-09|\n",
      "|136cce7faa42fdb2c...|ed0271e0b7da060a3...|    INVOICED|2017-04-13|\n",
      "|6514b8ad8028c9f2c...|9bdf08b4b3b52b552...|   DELIVERED|2017-05-16|\n",
      "|76c6e866289321a7c...|f54a9f0e6b351c431...|   DELIVERED|2017-01-25|\n",
      "|e69bfb5eb88e0ed6a...|31ad1d1b63eb99624...|   DELIVERED|2017-07-29|\n",
      "+--------------------+--------------------+------------+----------+\n",
      "only showing top 10 rows\n",
      "\n"
     ]
    }
   ],
   "source": [
    "df_orders_selected.selectExpr('order_id', 'customer_id','upper(order_status) as order_status','concat(year,\"-\",month,\"-\",day) as date').show(10)"
   ]
  },
  {
   "cell_type": "markdown",
   "id": "732d7ec1",
   "metadata": {},
   "source": [
    "###  Selecionando valores únicos"
   ]
  },
  {
   "cell_type": "code",
   "execution_count": 126,
   "id": "8b604a2a",
   "metadata": {},
   "outputs": [
    {
     "name": "stdout",
     "output_type": "stream",
     "text": [
      "+----+\n",
      "|year|\n",
      "+----+\n",
      "|2016|\n",
      "|2017|\n",
      "|null|\n",
      "|2018|\n",
      "+----+\n",
      "\n"
     ]
    }
   ],
   "source": [
    "df_orders_selected.select('year').distinct().show()"
   ]
  },
  {
   "cell_type": "code",
   "execution_count": 127,
   "id": "d58df45a",
   "metadata": {},
   "outputs": [
    {
     "name": "stdout",
     "output_type": "stream",
     "text": [
      "+--------------------+--------------------+------------+-------------------+----+-----+----+\n",
      "|            order_id|         customer_id|order_status|upper(order_status)|year|month| day|\n",
      "+--------------------+--------------------+------------+-------------------+----+-----+----+\n",
      "|00b1cb0320190ca0d...|3532ba38a3fd24225...|    canceled|           CANCELED|null| null|null|\n",
      "|d3c8851a6651eeff2...|957f8e082185574de...|  processing|         PROCESSING|2016|   10|  06|\n",
      "|e481f51cbdc54678b...|9ef432eb625129730...|   delivered|          DELIVERED|2017|   10|  02|\n",
      "|53cdb2fc8bc7dce0b...|b0830fb4747a6c6d2...|   delivered|          DELIVERED|2018|   07|  26|\n",
      "+--------------------+--------------------+------------+-------------------+----+-----+----+\n",
      "\n"
     ]
    }
   ],
   "source": [
    "df_orders_selected.dropDuplicates(subset=['year']).show()"
   ]
  },
  {
   "cell_type": "markdown",
   "id": "6300e171",
   "metadata": {},
   "source": [
    "### Filtrando registros e condições"
   ]
  },
  {
   "cell_type": "markdown",
   "id": "28dd008f",
   "metadata": {},
   "source": [
    "Operadores lógicos disponíveis:\n",
    "* e: &\n",
    "* ou: |\n",
    "* não: ~\n",
    "\n",
    "As funções `filter()` e `where()` podem ser utilizadas no processo de filtragem."
   ]
  },
  {
   "cell_type": "code",
   "execution_count": 134,
   "id": "d2f1f64d",
   "metadata": {},
   "outputs": [
    {
     "name": "stdout",
     "output_type": "stream",
     "text": [
      "+--------------------+--------------------+------------+-------------------+----+-----+---+\n",
      "|            order_id|         customer_id|order_status|upper(order_status)|year|month|day|\n",
      "+--------------------+--------------------+------------+-------------------+----+-----+---+\n",
      "|e481f51cbdc54678b...|9ef432eb625129730...|   delivered|          DELIVERED|2017|   10| 02|\n",
      "|53cdb2fc8bc7dce0b...|b0830fb4747a6c6d2...|   delivered|          DELIVERED|2018|   07| 26|\n",
      "|47770eb9100c2d0c4...|41ce2a54c0b03bf34...|   delivered|          DELIVERED|2018|   08| 08|\n",
      "|949d5b44dbf5de918...|f88197465ea7920ad...|   delivered|          DELIVERED|2017|   11| 18|\n",
      "|ad21c59c0840e6cb8...|8ab97904e6daea886...|   delivered|          DELIVERED|2018|   02| 13|\n",
      "|a4591c265e18cb1dc...|503740e9ca751ccdd...|   delivered|          DELIVERED|2017|   07| 09|\n",
      "|136cce7faa42fdb2c...|ed0271e0b7da060a3...|    invoiced|           INVOICED|2017|   04| 13|\n",
      "|6514b8ad8028c9f2c...|9bdf08b4b3b52b552...|   delivered|          DELIVERED|2017|   05| 16|\n",
      "|76c6e866289321a7c...|f54a9f0e6b351c431...|   delivered|          DELIVERED|2017|   01| 25|\n",
      "|e69bfb5eb88e0ed6a...|31ad1d1b63eb99624...|   delivered|          DELIVERED|2017|   07| 29|\n",
      "+--------------------+--------------------+------------+-------------------+----+-----+---+\n",
      "only showing top 10 rows\n",
      "\n"
     ]
    }
   ],
   "source": [
    "df_orders_selected.filter(~(col('year') == 'null')).show(10)"
   ]
  },
  {
   "cell_type": "code",
   "execution_count": 133,
   "id": "50cb419d",
   "metadata": {},
   "outputs": [
    {
     "name": "stdout",
     "output_type": "stream",
     "text": [
      "+--------------------+--------------------+------------+-------------------+----+-----+----+\n",
      "|            order_id|         customer_id|order_status|upper(order_status)|year|month| day|\n",
      "+--------------------+--------------------+------------+-------------------+----+-----+----+\n",
      "|00b1cb0320190ca0d...|3532ba38a3fd24225...|    canceled|           CANCELED|null| null|null|\n",
      "|ed3efbd3a87bea76c...|191984a8ba4cbb214...|    canceled|           CANCELED|null| null|null|\n",
      "|df8282afe61008dc2...|aa797b187b5466bc6...|    canceled|           CANCELED|null| null|null|\n",
      "|8d4c637f1accf7a88...|b1dd715db389a2077...|    canceled|           CANCELED|null| null|null|\n",
      "|7a9d4c7f9b0683378...|7f71ae48074c0cfec...|    canceled|           CANCELED|null| null|null|\n",
      "+--------------------+--------------------+------------+-------------------+----+-----+----+\n",
      "only showing top 5 rows\n",
      "\n"
     ]
    }
   ],
   "source": [
    "df_orders_selected.filter((col('year').isNull())).show(5)"
   ]
  },
  {
   "cell_type": "code",
   "execution_count": 137,
   "id": "a9562b2e",
   "metadata": {},
   "outputs": [
    {
     "name": "stdout",
     "output_type": "stream",
     "text": [
      "+------------+\n",
      "|order_status|\n",
      "+------------+\n",
      "|     shipped|\n",
      "|    canceled|\n",
      "|    invoiced|\n",
      "|     created|\n",
      "|   delivered|\n",
      "| unavailable|\n",
      "|  processing|\n",
      "|    approved|\n",
      "+------------+\n",
      "\n"
     ]
    }
   ],
   "source": [
    "df_orders_selected.select('order_status').distinct().show()"
   ]
  },
  {
   "cell_type": "code",
   "execution_count": 136,
   "id": "8581d431",
   "metadata": {},
   "outputs": [
    {
     "name": "stdout",
     "output_type": "stream",
     "text": [
      "+--------------------+--------------------+------------+-------------------+----+-----+---+\n",
      "|            order_id|         customer_id|order_status|upper(order_status)|year|month|day|\n",
      "+--------------------+--------------------+------------+-------------------+----+-----+---+\n",
      "|c4e980a1d822db426...|88dc22aad9cf20898...|    invoiced|           INVOICED|2016|   10| 09|\n",
      "|35b8e54d765e6b217...|1aaa5eaa9dd9bafb3...|    invoiced|           INVOICED|2016|   10| 07|\n",
      "|711b9be9c346d9ecd...|81e4aed5ab4253757...|    invoiced|           INVOICED|2016|   10| 04|\n",
      "|a6475bb7a50387e3c...|442d66f0d96f65609...|    invoiced|           INVOICED|2016|   10| 05|\n",
      "|dd845e1cdb19f08d0...|01f7b7a4e25cda9ce...|    invoiced|           INVOICED|2016|   10| 10|\n",
      "+--------------------+--------------------+------------+-------------------+----+-----+---+\n",
      "only showing top 5 rows\n",
      "\n"
     ]
    }
   ],
   "source": [
    "(\n",
    "    df_orders_selected.filter((col('year') == '2016') & (col('order_status') == 'invoiced'))\n",
    "    .show(5)\n",
    ")"
   ]
  },
  {
   "cell_type": "code",
   "execution_count": 142,
   "id": "a2c5fc3e",
   "metadata": {},
   "outputs": [
    {
     "name": "stdout",
     "output_type": "stream",
     "text": [
      "+--------------------+--------------------+------------+-------------------+----+-----+---+\n",
      "|            order_id|         customer_id|order_status|upper(order_status)|year|month|day|\n",
      "+--------------------+--------------------+------------+-------------------+----+-----+---+\n",
      "|8e24261a7e58791d1...|64a254d30eed42cd0...| unavailable|        UNAVAILABLE|2017|   11| 16|\n",
      "|37553832a3a89c9b2...|7607cd563696c27ed...| unavailable|        UNAVAILABLE|2017|   08| 17|\n",
      "|2f634e2cebf8c0283...|7353b0fb8e8d9675e...| unavailable|        UNAVAILABLE|2017|   09| 28|\n",
      "|ee0db22a8e742b752...|aae50600d30bf2efe...| unavailable|        UNAVAILABLE|2017|   08| 24|\n",
      "|6ad57aecbae806a7e...|d31dbd02ac052d662...| unavailable|        UNAVAILABLE|2017|   11| 30|\n",
      "+--------------------+--------------------+------------+-------------------+----+-----+---+\n",
      "only showing top 5 rows\n",
      "\n"
     ]
    }
   ],
   "source": [
    "(\n",
    "    df_orders_selected.filter(((col('order_status') == 'unavailable') | (col('order_status') == 'canceled')) & (col('year') == '2017')).show(5)\n",
    "  \n",
    ")"
   ]
  },
  {
   "cell_type": "code",
   "execution_count": 143,
   "id": "bff02ac4",
   "metadata": {},
   "outputs": [
    {
     "name": "stdout",
     "output_type": "stream",
     "text": [
      "+--------------------+--------------------+------------+-------------------+----+-----+---+\n",
      "|            order_id|         customer_id|order_status|upper(order_status)|year|month|day|\n",
      "+--------------------+--------------------+------------+-------------------+----+-----+---+\n",
      "|8e24261a7e58791d1...|64a254d30eed42cd0...| unavailable|        UNAVAILABLE|2017|   11| 16|\n",
      "|37553832a3a89c9b2...|7607cd563696c27ed...| unavailable|        UNAVAILABLE|2017|   08| 17|\n",
      "|2f634e2cebf8c0283...|7353b0fb8e8d9675e...| unavailable|        UNAVAILABLE|2017|   09| 28|\n",
      "|ee0db22a8e742b752...|aae50600d30bf2efe...| unavailable|        UNAVAILABLE|2017|   08| 24|\n",
      "|6ad57aecbae806a7e...|d31dbd02ac052d662...| unavailable|        UNAVAILABLE|2017|   11| 30|\n",
      "+--------------------+--------------------+------------+-------------------+----+-----+---+\n",
      "only showing top 5 rows\n",
      "\n"
     ]
    }
   ],
   "source": [
    "(\n",
    "    df_orders_selected.filter((col('order_status').isin('unavailable', 'canceled')) & (col('year') == '2017')).show(5)\n",
    ")"
   ]
  },
  {
   "cell_type": "code",
   "execution_count": 144,
   "id": "5a7770c5",
   "metadata": {},
   "outputs": [
    {
     "name": "stdout",
     "output_type": "stream",
     "text": [
      "+--------------------+--------------------+------------+-------------------+----+-----+---+\n",
      "|            order_id|         customer_id|order_status|upper(order_status)|year|month|day|\n",
      "+--------------------+--------------------+------------+-------------------+----+-----+---+\n",
      "|8e24261a7e58791d1...|64a254d30eed42cd0...| unavailable|        UNAVAILABLE|2017|   11| 16|\n",
      "|37553832a3a89c9b2...|7607cd563696c27ed...| unavailable|        UNAVAILABLE|2017|   08| 17|\n",
      "|2f634e2cebf8c0283...|7353b0fb8e8d9675e...| unavailable|        UNAVAILABLE|2017|   09| 28|\n",
      "|ee0db22a8e742b752...|aae50600d30bf2efe...| unavailable|        UNAVAILABLE|2017|   08| 24|\n",
      "|6ad57aecbae806a7e...|d31dbd02ac052d662...| unavailable|        UNAVAILABLE|2017|   11| 30|\n",
      "+--------------------+--------------------+------------+-------------------+----+-----+---+\n",
      "only showing top 5 rows\n",
      "\n"
     ]
    }
   ],
   "source": [
    "(\n",
    "    df_orders_selected\n",
    "    .filter((col('order_status').isin('unavailable', 'canceled')))\n",
    "    .filter((col('year') == '2017'))\n",
    "    .show(5)\n",
    ")"
   ]
  },
  {
   "cell_type": "markdown",
   "id": "84da86f7",
   "metadata": {},
   "source": [
    "### Utilizando expressões no filtro"
   ]
  },
  {
   "cell_type": "code",
   "execution_count": 145,
   "id": "bc0327eb",
   "metadata": {},
   "outputs": [
    {
     "name": "stdout",
     "output_type": "stream",
     "text": [
      "+--------------------+--------------------+------------+-------------------+----+-----+---+\n",
      "|            order_id|         customer_id|order_status|upper(order_status)|year|month|day|\n",
      "+--------------------+--------------------+------------+-------------------+----+-----+---+\n",
      "|8e24261a7e58791d1...|64a254d30eed42cd0...| unavailable|        UNAVAILABLE|2017|   11| 16|\n",
      "|37553832a3a89c9b2...|7607cd563696c27ed...| unavailable|        UNAVAILABLE|2017|   08| 17|\n",
      "|2f634e2cebf8c0283...|7353b0fb8e8d9675e...| unavailable|        UNAVAILABLE|2017|   09| 28|\n",
      "|ee0db22a8e742b752...|aae50600d30bf2efe...| unavailable|        UNAVAILABLE|2017|   08| 24|\n",
      "|6ad57aecbae806a7e...|d31dbd02ac052d662...| unavailable|        UNAVAILABLE|2017|   11| 30|\n",
      "+--------------------+--------------------+------------+-------------------+----+-----+---+\n",
      "only showing top 5 rows\n",
      "\n"
     ]
    }
   ],
   "source": [
    "(\n",
    "    df_orders_selected\n",
    "    .filter('order_status in (\"unavailable\", \"canceled\") and year == \"2017\"')\n",
    "    .show(5)\n",
    ")"
   ]
  },
  {
   "cell_type": "markdown",
   "id": "3c5627fc",
   "metadata": {},
   "source": [
    "#### Observações\n",
    "Quando nos referimos às colunas por meio da função `col()`, temos acesso à diversos métodos das colunas que podem ser utilizados para auxliar na filtragem do DataFrame. Alguns deles são:\n",
    "* `isin()`: checa se a coluna contém os valores listados na função.\n",
    "* `contains()`: utilizado para verificar se uma coluna de texto contém algum padrão especificado (não aceita regex). Aceita uma outra coluna de texto.\n",
    "* `like()`: utilizado para verificar se uma coluna de texto contém algum padrão especificado (não aceita regex). Funciona de forma similar ao \"LIKE\" do SQL.\n",
    "* `rlike()`: utilizado para verificar se uma coluna de texto contém algum padrão especificado (**aceita regex**). Funciona de forma similar ao \"RLIKE\" do SQL.\n",
    "* `startswith()`: utilizado para verificar se uma coluna de texto começa com algum padrão especificado (**aceita regex**).\n",
    "* `endswith()`: utilizado para verificar se uma coluna de texto termina com algum padrão especificado (**aceita regex**).\n",
    "* `between()`: checa se os valores da coluna estão dentro do intervalo especificado. Os dois lados do intervalo são inclusivos.\n",
    "* `isNull()`: retorna True se o valor da coluna é nulo\n",
    "* `isNotNull()`: retorna True se o valor da coluna não é nulo\n",
    "\n",
    "Outros métodos úteis:\n",
    "* `alias()/name()`: usado para renomear as colunas em operações como select() e agg()\n",
    "* `astype()/cast()`: usado para mudar o tipo das colunas. Aceita tanto um string como um tipo especificado pelo módulo pyspark.sql.types\n",
    "* `substr()`: utilizado para cortar um string com base em índices dos caracteres "
   ]
  },
  {
   "cell_type": "code",
   "execution_count": null,
   "id": "effb27cf",
   "metadata": {},
   "outputs": [],
   "source": []
  }
 ],
 "metadata": {
  "kernelspec": {
   "display_name": "Python 3 (ipykernel)",
   "language": "python",
   "name": "python3"
  },
  "language_info": {
   "codemirror_mode": {
    "name": "ipython",
    "version": 3
   },
   "file_extension": ".py",
   "mimetype": "text/x-python",
   "name": "python",
   "nbconvert_exporter": "python",
   "pygments_lexer": "ipython3",
   "version": "3.11.6"
  }
 },
 "nbformat": 4,
 "nbformat_minor": 5
}
