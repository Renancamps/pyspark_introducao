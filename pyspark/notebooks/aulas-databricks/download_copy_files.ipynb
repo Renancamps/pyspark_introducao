{
 "cells": [
  {
   "cell_type": "code",
   "execution_count": 0,
   "metadata": {
    "application/vnd.databricks.v1+cell": {
     "cellMetadata": {
      "byteLimit": 2048000,
      "rowLimit": 10000
     },
     "inputWidgets": {},
     "nuid": "3b636833-cf7b-4db1-8f46-06d5bb56e6b8",
     "showTitle": false,
     "title": ""
    }
   },
   "outputs": [],
   "source": [
    "\n",
    "import pyspark\n",
    "from pyspark.sql import SparkSession, Row\n",
    "from pyspark.sql.types import StructType,StructField, StringType\n",
    "\n",
    "spark = SparkSession.builder.appName('spark_copy_data').getOrCreate()"
   ]
  },
  {
   "cell_type": "code",
   "execution_count": 0,
   "metadata": {
    "application/vnd.databricks.v1+cell": {
     "cellMetadata": {
      "byteLimit": 2048000,
      "rowLimit": 10000
     },
     "inputWidgets": {},
     "nuid": "aac9a93f-ffcf-4165-b920-3978c809cf05",
     "showTitle": false,
     "title": ""
    }
   },
   "outputs": [
    {
     "output_type": "stream",
     "name": "stdout",
     "output_type": "stream",
     "text": [
      "Out[22]: True"
     ]
    }
   ],
   "source": [
    "dbutils.fs.mkdirs('dbfs:/FileStore/transient/departments/countries')\n",
    "dbutils.fs.mkdirs('dbfs:/FileStore/transient/departments/regions')\n",
    "dbutils.fs.mkdirs('dbfs:/FileStore/transient/departments/jobs')\n",
    "dbutils.fs.mkdirs('dbfs:/FileStore/transient/departments/employees')\n",
    "dbutils.fs.mkdirs('dbfs:/FileStore/transient/departments/locations')\n",
    "dbutils.fs.mkdirs('dbfs:/FileStore/transient/departments/departments')"
   ]
  },
  {
   "cell_type": "code",
   "execution_count": 0,
   "metadata": {
    "application/vnd.databricks.v1+cell": {
     "cellMetadata": {
      "byteLimit": 2048000,
      "rowLimit": 10000
     },
     "inputWidgets": {},
     "nuid": "d73797c6-3182-4ff0-b505-c5b5f1a005ca",
     "showTitle": false,
     "title": ""
    }
   },
   "outputs": [],
   "source": [
    "def download_Copy_File(folder : str,file : str) :\n",
    "    url = ' https://raw.githubusercontent.com/jader-lima/pyspark_introducao/main/datalake/transient/departments/{}/{} -P /tmp/'.format(folder,file)\n",
    "    ! wget $url\n",
    "    origin = \"file:/tmp/{}\".format(file)\n",
    "    sink = \"/FileStore/transient/departments/{}/{}\".format(folder,file)\n",
    "    dbutils.fs.cp(origin, sink)\n",
    "    !rm /tmp/$file"
   ]
  },
  {
   "cell_type": "code",
   "execution_count": 0,
   "metadata": {
    "application/vnd.databricks.v1+cell": {
     "cellMetadata": {
      "byteLimit": 2048000,
      "rowLimit": 10000
     },
     "inputWidgets": {},
     "nuid": "bd826506-14e4-41e4-864f-674a3d8dfe4b",
     "showTitle": false,
     "title": ""
    }
   },
   "outputs": [
    {
     "output_type": "stream",
     "name": "stdout",
     "output_type": "stream",
     "text": [
      "--2024-01-18 22:52:51--  https://raw.githubusercontent.com/jader-lima/pyspark_introducao/main/datalake/transient/departments/countries/countries.csv\r\nResolving raw.githubusercontent.com (raw.githubusercontent.com)... 185.199.111.133, 185.199.108.133, 185.199.109.133, ...\r\nConnecting to raw.githubusercontent.com (raw.githubusercontent.com)|185.199.111.133|:443... connected.\r\nHTTP request sent, awaiting response... 200 OK\r\nLength: 506 [text/plain]\r\nSaving to: ‘/tmp/countries.csv’\r\n\r\n\rcountries.csv         0%[                    ]       0  --.-KB/s               \rcountries.csv       100%[===================>]     506  --.-KB/s    in 0s      \r\n\r\n2024-01-18 22:52:51 (18.0 MB/s) - ‘/tmp/countries.csv’ saved [506/506]\r\n\r\n"
     ]
    }
   ],
   "source": [
    "download_Copy_File('countries','countries.csv')"
   ]
  },
  {
   "cell_type": "code",
   "execution_count": 0,
   "metadata": {
    "application/vnd.databricks.v1+cell": {
     "cellMetadata": {
      "byteLimit": 2048000,
      "rowLimit": 10000
     },
     "inputWidgets": {},
     "nuid": "a4998f65-aa9b-4464-a2ce-a39ddbaf7854",
     "showTitle": false,
     "title": ""
    }
   },
   "outputs": [
    {
     "output_type": "stream",
     "name": "stdout",
     "output_type": "stream",
     "text": [
      "--2024-01-18 23:01:45--  https://raw.githubusercontent.com/jader-lima/pyspark_introducao/main/datalake/transient/departments/departments/departments.csv\r\nResolving raw.githubusercontent.com (raw.githubusercontent.com)... 185.199.110.133, 185.199.111.133, 185.199.108.133, ...\r\nConnecting to raw.githubusercontent.com (raw.githubusercontent.com)|185.199.110.133|:443... connected.\r\nHTTP request sent, awaiting response... 200 OK\r\nLength: 269 [text/plain]\r\nSaving to: ‘/tmp/departments.csv’\r\n\r\n\rdepartments.csv       0%[                    ]       0  --.-KB/s               \rdepartments.csv     100%[===================>]     269  --.-KB/s    in 0s      \r\n\r\n2024-01-18 23:01:45 (5.19 MB/s) - ‘/tmp/departments.csv’ saved [269/269]\r\n\r\n"
     ]
    }
   ],
   "source": [
    "download_Copy_File('departments','departments.csv')"
   ]
  },
  {
   "cell_type": "code",
   "execution_count": 0,
   "metadata": {
    "application/vnd.databricks.v1+cell": {
     "cellMetadata": {
      "byteLimit": 2048000,
      "rowLimit": 10000
     },
     "inputWidgets": {},
     "nuid": "adef24d2-79d4-46f3-a780-ee848df0cc25",
     "showTitle": false,
     "title": ""
    }
   },
   "outputs": [
    {
     "output_type": "stream",
     "name": "stdout",
     "output_type": "stream",
     "text": [
      "--2024-01-18 23:01:54--  https://raw.githubusercontent.com/jader-lima/pyspark_introducao/main/datalake/transient/departments/dependents/dependents.csv\r\nResolving raw.githubusercontent.com (raw.githubusercontent.com)... 185.199.109.133, 185.199.110.133, 185.199.111.133, ...\r\nConnecting to raw.githubusercontent.com (raw.githubusercontent.com)|185.199.109.133|:443... connected.\r\nHTTP request sent, awaiting response... 200 OK\r\nLength: 1048 (1.0K) [text/plain]\r\nSaving to: ‘/tmp/dependents.csv’\r\n\r\n\rdependents.csv        0%[                    ]       0  --.-KB/s               \rdependents.csv      100%[===================>]   1.02K  --.-KB/s    in 0s      \r\n\r\n2024-01-18 23:01:54 (39.7 MB/s) - ‘/tmp/dependents.csv’ saved [1048/1048]\r\n\r\n"
     ]
    }
   ],
   "source": [
    "download_Copy_File('dependents','dependents.csv')"
   ]
  },
  {
   "cell_type": "code",
   "execution_count": 0,
   "metadata": {
    "application/vnd.databricks.v1+cell": {
     "cellMetadata": {
      "byteLimit": 2048000,
      "rowLimit": 10000
     },
     "inputWidgets": {},
     "nuid": "1c9b77d9-4af5-4403-ba2f-9b7b68d91920",
     "showTitle": false,
     "title": ""
    }
   },
   "outputs": [
    {
     "output_type": "stream",
     "name": "stdout",
     "output_type": "stream",
     "text": [
      "--2024-01-18 23:01:57--  https://raw.githubusercontent.com/jader-lima/pyspark_introducao/main/datalake/transient/departments/employees/employees.csv\r\nResolving raw.githubusercontent.com (raw.githubusercontent.com)... 185.199.108.133, 185.199.109.133, 185.199.110.133, ...\r\nConnecting to raw.githubusercontent.com (raw.githubusercontent.com)|185.199.108.133|:443... connected.\r\nHTTP request sent, awaiting response... 200 OK\r\nLength: 4051 (4.0K) [text/plain]\r\nSaving to: ‘/tmp/employees.csv’\r\n\r\n\remployees.csv         0%[                    ]       0  --.-KB/s               \remployees.csv       100%[===================>]   3.96K  --.-KB/s    in 0s      \r\n\r\n2024-01-18 23:01:57 (22.1 MB/s) - ‘/tmp/employees.csv’ saved [4051/4051]\r\n\r\n"
     ]
    }
   ],
   "source": [
    "download_Copy_File('employees','employees.csv')"
   ]
  },
  {
   "cell_type": "code",
   "execution_count": 0,
   "metadata": {
    "application/vnd.databricks.v1+cell": {
     "cellMetadata": {
      "byteLimit": 2048000,
      "rowLimit": 10000
     },
     "inputWidgets": {},
     "nuid": "acc951a7-dbf6-4c11-b3d6-7b81c10b8917",
     "showTitle": false,
     "title": ""
    }
   },
   "outputs": [
    {
     "output_type": "stream",
     "name": "stdout",
     "output_type": "stream",
     "text": [
      "--2024-01-18 23:01:59--  https://raw.githubusercontent.com/jader-lima/pyspark_introducao/main/datalake/transient/departments/jobs/jobs.csv\r\nResolving raw.githubusercontent.com (raw.githubusercontent.com)... 185.199.111.133, 185.199.108.133, 185.199.109.133, ...\r\nConnecting to raw.githubusercontent.com (raw.githubusercontent.com)|185.199.111.133|:443... connected.\r\nHTTP request sent, awaiting response... 200 OK\r\nLength: 818 [text/plain]\r\nSaving to: ‘/tmp/jobs.csv’\r\n\r\n\rjobs.csv              0%[                    ]       0  --.-KB/s               \rjobs.csv            100%[===================>]     818  --.-KB/s    in 0s      \r\n\r\n2024-01-18 23:01:59 (32.3 MB/s) - ‘/tmp/jobs.csv’ saved [818/818]\r\n\r\n"
     ]
    }
   ],
   "source": [
    "download_Copy_File('jobs','jobs.csv')"
   ]
  },
  {
   "cell_type": "code",
   "execution_count": 0,
   "metadata": {
    "application/vnd.databricks.v1+cell": {
     "cellMetadata": {
      "byteLimit": 2048000,
      "rowLimit": 10000
     },
     "inputWidgets": {},
     "nuid": "ef554e87-18e8-4e24-ace7-d164c698627c",
     "showTitle": false,
     "title": ""
    }
   },
   "outputs": [
    {
     "output_type": "stream",
     "name": "stdout",
     "output_type": "stream",
     "text": [
      "--2024-01-18 23:02:01--  https://raw.githubusercontent.com/jader-lima/pyspark_introducao/main/datalake/transient/departments/locations/locations.csv\r\nResolving raw.githubusercontent.com (raw.githubusercontent.com)... 185.199.110.133, 185.199.111.133, 185.199.108.133, ...\r\nConnecting to raw.githubusercontent.com (raw.githubusercontent.com)|185.199.110.133|:443... connected.\r\nHTTP request sent, awaiting response... 200 OK\r\nLength: 516 [text/plain]\r\nSaving to: ‘/tmp/locations.csv’\r\n\r\n\rlocations.csv         0%[                    ]       0  --.-KB/s               \rlocations.csv       100%[===================>]     516  --.-KB/s    in 0s      \r\n\r\n2024-01-18 23:02:01 (19.1 MB/s) - ‘/tmp/locations.csv’ saved [516/516]\r\n\r\n"
     ]
    }
   ],
   "source": [
    "download_Copy_File('locations','locations.csv')"
   ]
  },
  {
   "cell_type": "code",
   "execution_count": 0,
   "metadata": {
    "application/vnd.databricks.v1+cell": {
     "cellMetadata": {
      "byteLimit": 2048000,
      "rowLimit": 10000
     },
     "inputWidgets": {},
     "nuid": "a072103b-5ab9-431a-b626-76048acdf779",
     "showTitle": false,
     "title": ""
    }
   },
   "outputs": [
    {
     "output_type": "stream",
     "name": "stdout",
     "output_type": "stream",
     "text": [
      "--2024-01-18 23:02:03--  https://raw.githubusercontent.com/jader-lima/pyspark_introducao/main/datalake/transient/departments/regions/regions.csv\r\nResolving raw.githubusercontent.com (raw.githubusercontent.com)... 185.199.109.133, 185.199.110.133, 185.199.111.133, ...\r\nConnecting to raw.githubusercontent.com (raw.githubusercontent.com)|185.199.109.133|:443... connected.\r\nHTTP request sent, awaiting response... 200 OK\r\nLength: 85 [text/plain]\r\nSaving to: ‘/tmp/regions.csv’\r\n\r\n\rregions.csv           0%[                    ]       0  --.-KB/s               \rregions.csv         100%[===================>]      85  --.-KB/s    in 0s      \r\n\r\n2024-01-18 23:02:03 (806 KB/s) - ‘/tmp/regions.csv’ saved [85/85]\r\n\r\n"
     ]
    }
   ],
   "source": [
    "download_Copy_File('regions','regions.csv')"
   ]
  },
  {
   "cell_type": "code",
   "execution_count": 0,
   "metadata": {
    "application/vnd.databricks.v1+cell": {
     "cellMetadata": {
      "byteLimit": 2048000,
      "rowLimit": 10000
     },
     "inputWidgets": {},
     "nuid": "9c9fa6ab-2f71-4461-bc25-fe193d34a780",
     "showTitle": false,
     "title": ""
    }
   },
   "outputs": [
    {
     "output_type": "stream",
     "name": "stdout",
     "output_type": "stream",
     "text": [
      "[FileInfo(path='dbfs:/FileStore/transient/departments/departments/departments.csv', name='departments.csv', size=269, modificationTime=1705618906000)]\n[FileInfo(path='dbfs:/FileStore/transient/departments/dependents/dependents.csv', name='dependents.csv', size=1048, modificationTime=1705618916000)]\n[FileInfo(path='dbfs:/FileStore/transient/departments/employees/employees.csv', name='employees.csv', size=4051, modificationTime=1705618918000)]\n[FileInfo(path='dbfs:/FileStore/transient/departments/jobs/jobs.csv', name='jobs.csv', size=818, modificationTime=1705618920000)]\n[FileInfo(path='dbfs:/FileStore/transient/departments/locations/locations.csv', name='locations.csv', size=516, modificationTime=1705618922000)]\n[FileInfo(path='dbfs:/FileStore/transient/departments/regions/regions.csv', name='regions.csv', size=85, modificationTime=1705618924000)]\n"
     ]
    }
   ],
   "source": [
    "print(dbutils.fs.ls('dbfs:/FileStore/transient/departments/departments'))\n",
    "print(dbutils.fs.ls('dbfs:/FileStore/transient/departments/dependents'))\n",
    "print(dbutils.fs.ls('dbfs:/FileStore/transient/departments/employees'))\n",
    "print(dbutils.fs.ls('dbfs:/FileStore/transient/departments/jobs'))\n",
    "print(dbutils.fs.ls('dbfs:/FileStore/transient/departments/locations'))\n",
    "print(dbutils.fs.ls('dbfs:/FileStore/transient/departments/regions'))"
   ]
  },
  {
   "cell_type": "code",
   "execution_count": 0,
   "metadata": {
    "application/vnd.databricks.v1+cell": {
     "cellMetadata": {},
     "inputWidgets": {},
     "nuid": "528658ee-02f9-43cf-b2be-bacf626151b1",
     "showTitle": false,
     "title": ""
    }
   },
   "outputs": [],
   "source": []
  }
 ],
 "metadata": {
  "application/vnd.databricks.v1+notebook": {
   "dashboards": [],
   "language": "python",
   "notebookMetadata": {
    "pythonIndentUnit": 4
   },
   "notebookName": "download_copy_files",
   "widgets": {}
  }
 },
 "nbformat": 4,
 "nbformat_minor": 0
}
