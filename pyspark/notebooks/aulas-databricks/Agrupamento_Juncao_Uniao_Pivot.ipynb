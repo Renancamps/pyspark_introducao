{
 "cells": [
  {
   "cell_type": "code",
   "execution_count": 0,
   "metadata": {
    "application/vnd.databricks.v1+cell": {
     "cellMetadata": {},
     "inputWidgets": {},
     "nuid": "c237d547-14c2-4b02-8bbd-b3e92627ef3a",
     "showTitle": false,
     "title": ""
    }
   },
   "outputs": [],
   "source": [
    "from pyspark.sql import SparkSession\n",
    "from pyspark.sql.functions import col\n",
    "from pyspark.sql.types import StructType,StructField, StringType, IntegerType, FloatType\n",
    "import pyspark.sql.functions as F"
   ]
  },
  {
   "cell_type": "code",
   "execution_count": 0,
   "metadata": {
    "application/vnd.databricks.v1+cell": {
     "cellMetadata": {},
     "inputWidgets": {},
     "nuid": "7525f103-1008-4729-aaf7-9ae2214081ec",
     "showTitle": false,
     "title": ""
    }
   },
   "outputs": [
    {
     "output_type": "stream",
     "name": "stderr",
     "output_type": "stream",
     "text": [
      "Setting default log level to \"WARN\".\nTo adjust logging level use sc.setLogLevel(newLevel). For SparkR, use setLogLevel(newLevel).\n24/01/13 14:58:20 WARN NativeCodeLoader: Unable to load native-hadoop library for your platform... using builtin-java classes where applicable\n24/01/13 14:58:22 WARN Utils: Service 'SparkUI' could not bind on port 4040. Attempting port 4041.\n"
     ]
    }
   ],
   "source": [
    "\n",
    "spark = SparkSession.builder \\\n",
    "    .master('local[*]') \\\n",
    "    .appName(\"Iniciando com Spark\") \\\n",
    "    .getOrCreate()"
   ]
  },
  {
   "cell_type": "markdown",
   "metadata": {
    "application/vnd.databricks.v1+cell": {
     "cellMetadata": {},
     "inputWidgets": {},
     "nuid": "322ae8a8-c915-47f4-97c5-3cb33a1ada2a",
     "showTitle": false,
     "title": ""
    }
   },
   "source": [
    "### Lendo Csv"
   ]
  },
  {
   "cell_type": "code",
   "execution_count": 0,
   "metadata": {
    "application/vnd.databricks.v1+cell": {
     "cellMetadata": {},
     "inputWidgets": {},
     "nuid": "31687668-251c-428e-84c8-6ee3d09fb139",
     "showTitle": false,
     "title": ""
    }
   },
   "outputs": [],
   "source": [
    "path_countries = '/FileStore/transient/departments/countries'\n",
    "df_countries = spark.read.format('csv')\\\n",
    ".option(\"header\", True)\\\n",
    ".option(\"sep\", \",\")\\\n",
    ".option(\"quote\",\"\\'\")\\\n",
    ".option(\"inferSchema\",True)\\\n",
    ".load(path_countries)\n",
    "#transient\\csv\\olist"
   ]
  },
  {
   "cell_type": "code",
   "execution_count": 0,
   "metadata": {
    "application/vnd.databricks.v1+cell": {
     "cellMetadata": {},
     "inputWidgets": {},
     "nuid": "49aa575d-8cd1-4f12-92c3-e7a3c3952dbf",
     "showTitle": false,
     "title": ""
    }
   },
   "outputs": [],
   "source": [
    "path_regions = '/FileStore/transient/departments/regions'\n",
    "df_regions = spark.read.format('csv')\\\n",
    ".option(\"header\", True)\\\n",
    ".option(\"sep\", \",\")\\\n",
    ".option(\"quote\",\"\\'\")\\\n",
    ".option(\"inferSchema\",True)\\\n",
    ".load(path_regions)"
   ]
  },
  {
   "cell_type": "code",
   "execution_count": 0,
   "metadata": {
    "application/vnd.databricks.v1+cell": {
     "cellMetadata": {},
     "inputWidgets": {},
     "nuid": "17f7a625-2ac3-4a3e-9a98-0986026682e7",
     "showTitle": false,
     "title": ""
    }
   },
   "outputs": [],
   "source": [
    "path_jobs = '/FileStore/transient/departments/jobs'\n",
    "df_jobs = spark.read.format('csv')\\\n",
    ".option(\"header\", True)\\\n",
    ".option(\"sep\", \",\")\\\n",
    ".option(\"quote\",\"\\'\")\\\n",
    ".option(\"inferSchema\",True)\\\n",
    ".load(path_jobs)"
   ]
  },
  {
   "cell_type": "code",
   "execution_count": 0,
   "metadata": {
    "application/vnd.databricks.v1+cell": {
     "cellMetadata": {},
     "inputWidgets": {},
     "nuid": "f6967776-0d77-4a3c-b20e-90090d5c8205",
     "showTitle": false,
     "title": ""
    }
   },
   "outputs": [],
   "source": [
    "path_employees = '/FileStore/transient/departments/employees'\n",
    "df_employees = spark.read.format('csv')\\\n",
    ".option(\"header\", True)\\\n",
    ".option(\"sep\", \",\")\\\n",
    ".option(\"quote\",\"\\'\")\\\n",
    ".option(\"inferSchema\",True)\\\n",
    ".load(path_employees)"
   ]
  },
  {
   "cell_type": "code",
   "execution_count": 0,
   "metadata": {
    "application/vnd.databricks.v1+cell": {
     "cellMetadata": {},
     "inputWidgets": {},
     "nuid": "d9d1c09d-2380-4a73-9cc0-9adb3fee5f62",
     "showTitle": false,
     "title": ""
    }
   },
   "outputs": [],
   "source": []
  },
  {
   "cell_type": "code",
   "execution_count": 0,
   "metadata": {
    "application/vnd.databricks.v1+cell": {
     "cellMetadata": {},
     "inputWidgets": {},
     "nuid": "c34e65db-e955-4076-8b0a-7e0281c3a551",
     "showTitle": false,
     "title": ""
    }
   },
   "outputs": [
    {
     "output_type": "stream",
     "name": "stdout",
     "output_type": "stream",
     "text": [
      "+----------+------------+---------+\n|country_id|country_name|region_id|\n+----------+------------+---------+\n|        AR|   Argentina|        2|\n|        AU|   Australia|        3|\n+----------+------------+---------+\nonly showing top 2 rows\n\n"
     ]
    }
   ],
   "source": [
    "df_countries.show(2)"
   ]
  },
  {
   "cell_type": "code",
   "execution_count": 0,
   "metadata": {
    "application/vnd.databricks.v1+cell": {
     "cellMetadata": {},
     "inputWidgets": {},
     "nuid": "c77e689a-0152-4971-b3bc-aa6fc6ab9cd3",
     "showTitle": false,
     "title": ""
    }
   },
   "outputs": [
    {
     "output_type": "stream",
     "name": "stdout",
     "output_type": "stream",
     "text": [
      "+---------+--------------------+\n|region_id|         region_name|\n+---------+--------------------+\n|        1|              Europe|\n|        2|            Americas|\n|        3|                Asia|\n|        4|Middle East and A...|\n+---------+--------------------+\n\n"
     ]
    }
   ],
   "source": [
    "df_regions.show(20)"
   ]
  },
  {
   "cell_type": "code",
   "execution_count": 0,
   "metadata": {
    "application/vnd.databricks.v1+cell": {
     "cellMetadata": {},
     "inputWidgets": {},
     "nuid": "eb94c424-2e2a-4d59-9b8a-4167117994af",
     "showTitle": false,
     "title": ""
    }
   },
   "outputs": [],
   "source": [
    "data = [(97,\"Terra Média\"),(98,\"Westeros\"),(98,\"Esteros\"),(100,\"Sistema Solar\")]\n",
    "\n",
    "\n",
    "schema = StructType([ \\\n",
    "    StructField(\"region_id\",IntegerType(),True), \\\n",
    "    StructField(\"region_name\",StringType(),True)\n",
    "  ])\n",
    "\n",
    "df_region2 = spark.createDataFrame(data=data,schema=schema)"
   ]
  },
  {
   "cell_type": "code",
   "execution_count": 0,
   "metadata": {
    "application/vnd.databricks.v1+cell": {
     "cellMetadata": {},
     "inputWidgets": {},
     "nuid": "cdd73395-70d2-4fa5-bb2b-fd64d79e50cf",
     "showTitle": false,
     "title": ""
    }
   },
   "outputs": [],
   "source": [
    "data = [(50,\"Valfenda\",91),(51,\"Kings Landing\",98),(51,\"Terra\",101)]\n",
    "\n",
    "#country_id|country_name|region_id\n",
    "schema = StructType([ \\\n",
    "    StructField(\"country_id\",IntegerType(),True), \\\n",
    "    StructField(\"country_name\",StringType(),True), \\\n",
    "    StructField(\"region_id\",IntegerType(),True),\n",
    "  ])\n",
    "\n",
    "df_countries2 = spark.createDataFrame(data=data,schema=schema)"
   ]
  },
  {
   "cell_type": "markdown",
   "metadata": {
    "application/vnd.databricks.v1+cell": {
     "cellMetadata": {},
     "inputWidgets": {},
     "nuid": "e0e34350-2600-468f-9c5d-1629987be761",
     "showTitle": false,
     "title": ""
    }
   },
   "source": [
    "### **Union** ###\n",
    "Podemos unir dataframes que tenham o mesmo schema, o efeito seria o mesmo de empilhar os dataframes <br>\n"
   ]
  },
  {
   "cell_type": "code",
   "execution_count": 0,
   "metadata": {
    "application/vnd.databricks.v1+cell": {
     "cellMetadata": {},
     "inputWidgets": {},
     "nuid": "cccd2193-f3e4-45f2-a416-016b83266f52",
     "showTitle": false,
     "title": ""
    }
   },
   "outputs": [],
   "source": [
    "df_regions3 = df_regions.union(df_region2)"
   ]
  },
  {
   "cell_type": "code",
   "execution_count": 0,
   "metadata": {
    "application/vnd.databricks.v1+cell": {
     "cellMetadata": {},
     "inputWidgets": {},
     "nuid": "8ac9d3a3-3787-4f01-8067-90fe9e799506",
     "showTitle": false,
     "title": ""
    }
   },
   "outputs": [
    {
     "output_type": "stream",
     "name": "stderr",
     "output_type": "stream",
     "text": [
      "                                                                                \r"
     ]
    },
    {
     "output_type": "stream",
     "name": "stdout",
     "output_type": "stream",
     "text": [
      "+---------+--------------------+\n|region_id|         region_name|\n+---------+--------------------+\n|        1|              Europe|\n|        2|            Americas|\n|        3|                Asia|\n|        4|Middle East and A...|\n|       97|         Terra Média|\n|       98|            Westeros|\n|       99|             Esteros|\n|      100|          Via Lactea|\n+---------+--------------------+\n\n"
     ]
    }
   ],
   "source": [
    "df_regions3.show()"
   ]
  },
  {
   "cell_type": "code",
   "execution_count": 0,
   "metadata": {
    "application/vnd.databricks.v1+cell": {
     "cellMetadata": {},
     "inputWidgets": {},
     "nuid": "36764c76-9204-4a3a-96b5-f894d5a4e5d8",
     "showTitle": false,
     "title": ""
    }
   },
   "outputs": [],
   "source": [
    "df_countries3 = df_countries.union(df_countries2)"
   ]
  },
  {
   "cell_type": "code",
   "execution_count": 0,
   "metadata": {
    "application/vnd.databricks.v1+cell": {
     "cellMetadata": {},
     "inputWidgets": {},
     "nuid": "3de6fc63-e6d5-401f-bd10-7f4ebce7be3a",
     "showTitle": false,
     "title": ""
    }
   },
   "outputs": [
    {
     "output_type": "stream",
     "name": "stdout",
     "output_type": "stream",
     "text": [
      "+----------+--------------------+---------+\n|country_id|        country_name|region_id|\n+----------+--------------------+---------+\n|        AR|           Argentina|        2|\n|        AU|           Australia|        3|\n|        BE|             Belgium|        1|\n|        BR|              Brazil|        2|\n|        CA|              Canada|        2|\n|        CH|         Switzerland|        1|\n|        CN|               China|        3|\n|        DE|             Germany|        1|\n|        DK|             Denmark|        1|\n|        EG|               Egypt|        4|\n|        FR|              France|        1|\n|        HK|            HongKong|        3|\n|        IL|              Israel|        4|\n|        IN|               India|        3|\n|        IT|               Italy|        1|\n|        JP|               Japan|        3|\n|        KW|              Kuwait|        4|\n|        MX|              Mexico|        2|\n|        NG|             Nigeria|        4|\n|        NL|         Netherlands|        1|\n|        SG|           Singapore|        3|\n|        UK|      United Kingdom|        1|\n|        US|United States of ...|        2|\n|        ZM|              Zambia|        4|\n|        ZW|            Zimbabwe|        4|\n|        50|            Valfenda|       91|\n|        51|       Kings Landing|       98|\n|        51|               Terra|      101|\n+----------+--------------------+---------+\n\n"
     ]
    }
   ],
   "source": [
    "df_countries3.show(30)"
   ]
  },
  {
   "cell_type": "markdown",
   "metadata": {
    "application/vnd.databricks.v1+cell": {
     "cellMetadata": {},
     "inputWidgets": {},
     "nuid": "b9936515-15fa-4e69-98e8-1983db2cda6d",
     "showTitle": false,
     "title": ""
    }
   },
   "source": [
    "### **Join** ###\n",
    "Outra possibilidade muito utilizada é a **junção** ou **join** entre dataframes, a junção necessita que os dataframes envolvidos tenham um campo em comum, semelhante a relação de chaves primarias e estrageiras do SQL tradicional<br>\n",
    "**Tipos de junções**;<br>\n",
    "• inner - Junção padrão, só realiza a junção se a mesma chave exista em todos os dataframes envolvidos ;<br>\n",
    "• left - Sempre retorna os elementos do dataframe da esquerda, os caso os elementos do dataframe da esquerda não sejam encontrados, as colunas desse dataframe ;<br>\n",
    "• full - ;<br>\n",
    "• anti - ;<br>"
   ]
  },
  {
   "cell_type": "code",
   "execution_count": 0,
   "metadata": {
    "application/vnd.databricks.v1+cell": {
     "cellMetadata": {},
     "inputWidgets": {},
     "nuid": "ef719f4d-7e12-41c1-b620-706efdaf39f3",
     "showTitle": false,
     "title": ""
    }
   },
   "outputs": [],
   "source": []
  },
  {
   "cell_type": "markdown",
   "metadata": {
    "application/vnd.databricks.v1+cell": {
     "cellMetadata": {},
     "inputWidgets": {},
     "nuid": "e52b3f94-6dc2-4937-9c47-0f674fcc2224",
     "showTitle": false,
     "title": ""
    }
   },
   "source": [
    "### **Inner Join** ###\n",
    "Outra possibilidade muito utilizada é a **junção** ou **join** entre dataframes, a junção necessita que os dataframes envolvidos tenham um campo em comum, semelhante a relação de chaves primarias e estrageiras do SQL tradicional<br>"
   ]
  },
  {
   "cell_type": "code",
   "execution_count": 0,
   "metadata": {
    "application/vnd.databricks.v1+cell": {
     "cellMetadata": {},
     "inputWidgets": {},
     "nuid": "6e34bea5-fe7a-4a7a-9056-0d69b9550c7c",
     "showTitle": false,
     "title": ""
    }
   },
   "outputs": [],
   "source": [
    "condicao = df_regions3.region_id == df_countries3.region_id\n",
    "df_join = df_regions3.join(df_countries3, condicao ,'inner')"
   ]
  },
  {
   "cell_type": "code",
   "execution_count": 0,
   "metadata": {
    "application/vnd.databricks.v1+cell": {
     "cellMetadata": {},
     "inputWidgets": {},
     "nuid": "2146a638-a0bb-4789-9870-640d4985a474",
     "showTitle": false,
     "title": ""
    },
    "scrolled": true
   },
   "outputs": [
    {
     "output_type": "stream",
     "name": "stdout",
     "output_type": "stream",
     "text": [
      "+---------+--------------------+----------+--------------------+---------+\n|region_id|         region_name|country_id|        country_name|region_id|\n+---------+--------------------+----------+--------------------+---------+\n|        1|              Europe|        BE|             Belgium|        1|\n|        1|              Europe|        CH|         Switzerland|        1|\n|        1|              Europe|        DE|             Germany|        1|\n|        1|              Europe|        DK|             Denmark|        1|\n|        1|              Europe|        FR|              France|        1|\n|        1|              Europe|        IT|               Italy|        1|\n|        1|              Europe|        NL|         Netherlands|        1|\n|        1|              Europe|        UK|      United Kingdom|        1|\n|        2|            Americas|        AR|           Argentina|        2|\n|        2|            Americas|        BR|              Brazil|        2|\n|        2|            Americas|        CA|              Canada|        2|\n|        2|            Americas|        MX|              Mexico|        2|\n|        2|            Americas|        US|United States of ...|        2|\n|        3|                Asia|        AU|           Australia|        3|\n|        3|                Asia|        CN|               China|        3|\n|        3|                Asia|        HK|            HongKong|        3|\n|        3|                Asia|        IN|               India|        3|\n|        3|                Asia|        JP|               Japan|        3|\n|        3|                Asia|        SG|           Singapore|        3|\n|        4|Middle East and A...|        EG|               Egypt|        4|\n|        4|Middle East and A...|        IL|              Israel|        4|\n|        4|Middle East and A...|        KW|              Kuwait|        4|\n|        4|Middle East and A...|        NG|             Nigeria|        4|\n|        4|Middle East and A...|        ZM|              Zambia|        4|\n|        4|Middle East and A...|        ZW|            Zimbabwe|        4|\n|       98|            Westeros|        51|       Kings Landing|       98|\n+---------+--------------------+----------+--------------------+---------+\n\n"
     ]
    }
   ],
   "source": [
    "df_join.show(30)"
   ]
  },
  {
   "cell_type": "markdown",
   "metadata": {
    "application/vnd.databricks.v1+cell": {
     "cellMetadata": {},
     "inputWidgets": {},
     "nuid": "7c8ea157-9782-4789-82bd-5d07ceffdf7c",
     "showTitle": false,
     "title": ""
    }
   },
   "source": [
    "### **Left Join** ###\n",
    "Sempre retorna os elementos do dataframe da esquerda, os caso os elementos do dataframe da direita não sejam encontrados, as colunas desse dataframe aparecem como nulas;<br>"
   ]
  },
  {
   "cell_type": "code",
   "execution_count": 0,
   "metadata": {
    "application/vnd.databricks.v1+cell": {
     "cellMetadata": {},
     "inputWidgets": {},
     "nuid": "8b5f7617-c9a5-43cd-ab4f-1b3e9e318fa5",
     "showTitle": false,
     "title": ""
    }
   },
   "outputs": [],
   "source": [
    "condicao = df_regions3.region_id == df_countries3.region_id\n",
    "df_join = df_regions3.join(df_countries3, condicao ,'left')"
   ]
  },
  {
   "cell_type": "code",
   "execution_count": 0,
   "metadata": {
    "application/vnd.databricks.v1+cell": {
     "cellMetadata": {},
     "inputWidgets": {},
     "nuid": "5d5a63d4-7d0f-4917-b577-cfd4fdfbd783",
     "showTitle": false,
     "title": ""
    }
   },
   "outputs": [
    {
     "output_type": "stream",
     "name": "stdout",
     "output_type": "stream",
     "text": [
      "+---------+--------------------+----------+--------------------+---------+\n|region_id|         region_name|country_id|        country_name|region_id|\n+---------+--------------------+----------+--------------------+---------+\n|        1|              Europe|        UK|      United Kingdom|        1|\n|        1|              Europe|        NL|         Netherlands|        1|\n|        1|              Europe|        IT|               Italy|        1|\n|        1|              Europe|        FR|              France|        1|\n|        1|              Europe|        DK|             Denmark|        1|\n|        1|              Europe|        DE|             Germany|        1|\n|        1|              Europe|        CH|         Switzerland|        1|\n|        1|              Europe|        BE|             Belgium|        1|\n|        2|            Americas|        US|United States of ...|        2|\n|        2|            Americas|        MX|              Mexico|        2|\n|        2|            Americas|        CA|              Canada|        2|\n|        2|            Americas|        BR|              Brazil|        2|\n|        2|            Americas|        AR|           Argentina|        2|\n|        3|                Asia|        SG|           Singapore|        3|\n|        3|                Asia|        JP|               Japan|        3|\n|        3|                Asia|        IN|               India|        3|\n|        3|                Asia|        HK|            HongKong|        3|\n|        3|                Asia|        CN|               China|        3|\n|        3|                Asia|        AU|           Australia|        3|\n|        4|Middle East and A...|        ZW|            Zimbabwe|        4|\n|        4|Middle East and A...|        ZM|              Zambia|        4|\n|        4|Middle East and A...|        NG|             Nigeria|        4|\n|        4|Middle East and A...|        KW|              Kuwait|        4|\n|        4|Middle East and A...|        IL|              Israel|        4|\n|        4|Middle East and A...|        EG|               Egypt|        4|\n|       97|         Terra Média|      null|                null|     null|\n|       98|            Westeros|      null|                null|     null|\n|       99|             Esteros|      null|                null|     null|\n|      100|          Via Lactea|      null|                null|     null|\n+---------+--------------------+----------+--------------------+---------+\n\n"
     ]
    }
   ],
   "source": [
    "df_join.show(30)"
   ]
  },
  {
   "cell_type": "markdown",
   "metadata": {
    "application/vnd.databricks.v1+cell": {
     "cellMetadata": {},
     "inputWidgets": {},
     "nuid": "d956373a-2434-44c2-82de-2234e86266c5",
     "showTitle": false,
     "title": ""
    }
   },
   "source": [
    "### **Full Join** ###\n",
    "Sempre retorna os elementos do dataframe da esquerda, os caso os elementos do dataframe da direita não sejam encontrados, as colunas desse dataframe aparecem como nulas;<br>"
   ]
  },
  {
   "cell_type": "code",
   "execution_count": 0,
   "metadata": {
    "application/vnd.databricks.v1+cell": {
     "cellMetadata": {},
     "inputWidgets": {},
     "nuid": "a7aea3d8-a1e7-4cfa-b705-1ad4c9dafe52",
     "showTitle": false,
     "title": ""
    }
   },
   "outputs": [],
   "source": [
    "condicao = df_regions3.region_id == df_countries3.region_id\n",
    "df_join = df_regions3.join(df_countries3, condicao ,'full')"
   ]
  },
  {
   "cell_type": "code",
   "execution_count": 0,
   "metadata": {
    "application/vnd.databricks.v1+cell": {
     "cellMetadata": {},
     "inputWidgets": {},
     "nuid": "ec14beba-fe46-41fb-ae83-4bf301842a44",
     "showTitle": false,
     "title": ""
    }
   },
   "outputs": [
    {
     "output_type": "stream",
     "name": "stdout",
     "output_type": "stream",
     "text": [
      "+---------+--------------------+----------+--------------------+---------+\n|region_id|         region_name|country_id|        country_name|region_id|\n+---------+--------------------+----------+--------------------+---------+\n|        1|              Europe|        BE|             Belgium|        1|\n|        1|              Europe|        CH|         Switzerland|        1|\n|        1|              Europe|        DE|             Germany|        1|\n|        1|              Europe|        DK|             Denmark|        1|\n|        1|              Europe|        FR|              France|        1|\n|        1|              Europe|        IT|               Italy|        1|\n|        1|              Europe|        NL|         Netherlands|        1|\n|        1|              Europe|        UK|      United Kingdom|        1|\n|        2|            Americas|        AR|           Argentina|        2|\n|        2|            Americas|        BR|              Brazil|        2|\n|        2|            Americas|        CA|              Canada|        2|\n|        2|            Americas|        MX|              Mexico|        2|\n|        2|            Americas|        US|United States of ...|        2|\n|        3|                Asia|        AU|           Australia|        3|\n|        3|                Asia|        CN|               China|        3|\n|        3|                Asia|        HK|            HongKong|        3|\n|        3|                Asia|        IN|               India|        3|\n|        3|                Asia|        JP|               Japan|        3|\n|        3|                Asia|        SG|           Singapore|        3|\n|        4|Middle East and A...|        EG|               Egypt|        4|\n|        4|Middle East and A...|        IL|              Israel|        4|\n|        4|Middle East and A...|        KW|              Kuwait|        4|\n|        4|Middle East and A...|        NG|             Nigeria|        4|\n|        4|Middle East and A...|        ZM|              Zambia|        4|\n|        4|Middle East and A...|        ZW|            Zimbabwe|        4|\n|     null|                null|        50|            Valfenda|       91|\n|       97|         Terra Média|      null|                null|     null|\n|       98|            Westeros|        51|       Kings Landing|       98|\n|       99|             Esteros|      null|                null|     null|\n|      100|          Via Lactea|      null|                null|     null|\n+---------+--------------------+----------+--------------------+---------+\nonly showing top 30 rows\n\n"
     ]
    }
   ],
   "source": [
    "df_join.show(30)"
   ]
  },
  {
   "cell_type": "markdown",
   "metadata": {
    "application/vnd.databricks.v1+cell": {
     "cellMetadata": {},
     "inputWidgets": {},
     "nuid": "01a741e5-5539-457a-90dd-bdc973d8e4b4",
     "showTitle": false,
     "title": ""
    }
   },
   "source": [
    "### **Anti Join** ###\n",
    "Sempre retorna os elementos do dataframe da direita, quem não sejam encontrados no dataframe da esquerda;<br>"
   ]
  },
  {
   "cell_type": "code",
   "execution_count": 0,
   "metadata": {
    "application/vnd.databricks.v1+cell": {
     "cellMetadata": {},
     "inputWidgets": {},
     "nuid": "3a7c2470-9bbb-4240-8ff3-4baa52abf311",
     "showTitle": false,
     "title": ""
    }
   },
   "outputs": [],
   "source": [
    "condicao = df_regions3.region_id == df_countries.region_id\n",
    "df_join = df_regions3.join(df_countries, condicao ,'anti')"
   ]
  },
  {
   "cell_type": "code",
   "execution_count": 0,
   "metadata": {
    "application/vnd.databricks.v1+cell": {
     "cellMetadata": {},
     "inputWidgets": {},
     "nuid": "1df54379-0bf3-4e7b-9d45-de6be2e1cd76",
     "showTitle": false,
     "title": ""
    }
   },
   "outputs": [
    {
     "output_type": "stream",
     "name": "stdout",
     "output_type": "stream",
     "text": [
      "+---------+-----------+\n|region_id|region_name|\n+---------+-----------+\n|       97|Terra Média|\n|       98|   Westeros|\n|       99|    Esteros|\n|      100| Via Lactea|\n+---------+-----------+\n\n"
     ]
    }
   ],
   "source": [
    "df_join.show()"
   ]
  },
  {
   "cell_type": "code",
   "execution_count": 0,
   "metadata": {
    "application/vnd.databricks.v1+cell": {
     "cellMetadata": {},
     "inputWidgets": {},
     "nuid": "ac87136e-8185-4c32-ad0e-bcae1e089050",
     "showTitle": false,
     "title": ""
    }
   },
   "outputs": [],
   "source": [
    "###Pivot"
   ]
  },
  {
   "cell_type": "code",
   "execution_count": 0,
   "metadata": {
    "application/vnd.databricks.v1+cell": {
     "cellMetadata": {},
     "inputWidgets": {},
     "nuid": "a6e68a30-7a97-4f21-aa11-d377a83eefee",
     "showTitle": false,
     "title": ""
    }
   },
   "outputs": [],
   "source": [
    "data = [(1,\"Profit\",100.0),\n",
    "        (2,\"Profit\",100.0),\n",
    "        (3,\"Profit\",100.0),\n",
    "        (4,\"Profit\",100.0),\n",
    "        (5,\"Profit\",100.0),\n",
    "        (6,\"Profit\",100.0),\n",
    "        (7,\"Profit\",100.0),\n",
    "        (8,\"Profit\",100.0),\n",
    "        (9,\"Profit\",100.0),\n",
    "       (10,\"Profit\",100.0),\n",
    "       (11,\"Profit\",100.0),\n",
    "       (12,\"Profit\",100.0),\n",
    "         (1,\"Revenue\",500.0),\n",
    "        (2,\"Revenue\",500.0),\n",
    "        (3,\"Revenue\",500.0),\n",
    "        (4,\"Revenue\",500.0),\n",
    "        (5,\"Revenue\",555.0),\n",
    "        (6,\"Revenue\",777.0),\n",
    "        (7,\"Revenue\",800.0),\n",
    "        (8,\"Revenue\",900.0),\n",
    "        (9,\"Revenue\",1000.0),\n",
    "       (10,\"Revenue\",300.0),\n",
    "       (12,\"Revenue\",400.0)\n",
    "      ]\n",
    "\n",
    "#country_id|country_name|region_id\n",
    "schema = StructType([ \\\n",
    "    StructField(\"Month\",IntegerType(),True), \\\n",
    "    StructField(\"Indicator\",StringType(),True), \\\n",
    "    StructField(\"Amount\",FloatType(),True),\n",
    "  ])\n",
    "\n",
    "df_profit = spark.createDataFrame(data=data,schema=schema)"
   ]
  },
  {
   "cell_type": "code",
   "execution_count": 0,
   "metadata": {
    "application/vnd.databricks.v1+cell": {
     "cellMetadata": {},
     "inputWidgets": {},
     "nuid": "d13a9b66-efe8-4c1a-b002-c99602f7c5dc",
     "showTitle": false,
     "title": ""
    }
   },
   "outputs": [
    {
     "output_type": "stream",
     "name": "stdout",
     "output_type": "stream",
     "text": [
      "+-----+---------+------+\n|Month|Indicator|Amount|\n+-----+---------+------+\n|    1|   Profit| 100.0|\n|    2|   Profit| 100.0|\n|    3|   Profit| 100.0|\n|    4|   Profit| 100.0|\n|    5|   Profit| 100.0|\n|    6|   Profit| 100.0|\n|    7|   Profit| 100.0|\n|    8|   Profit| 100.0|\n|    9|   Profit| 100.0|\n|   10|   Profit| 100.0|\n|   11|   Profit| 100.0|\n|   12|   Profit| 100.0|\n|    1|  Revenue| 500.0|\n|    2|  Revenue| 500.0|\n|    3|  Revenue| 500.0|\n|    4|  Revenue| 500.0|\n|    5|  Revenue| 555.0|\n|    6|  Revenue| 777.0|\n|    7|  Revenue| 800.0|\n|    8|  Revenue| 900.0|\n+-----+---------+------+\nonly showing top 20 rows\n\n"
     ]
    }
   ],
   "source": [
    "df_profit.show()"
   ]
  },
  {
   "cell_type": "code",
   "execution_count": 0,
   "metadata": {
    "application/vnd.databricks.v1+cell": {
     "cellMetadata": {},
     "inputWidgets": {},
     "nuid": "9402db1f-d56f-4131-a159-3f49bfec8101",
     "showTitle": false,
     "title": ""
    }
   },
   "outputs": [
    {
     "output_type": "stream",
     "name": "stdout",
     "output_type": "stream",
     "text": [
      "root\n |-- Indicator: string (nullable = true)\n |-- 1: double (nullable = true)\n |-- 2: double (nullable = true)\n |-- 3: double (nullable = true)\n |-- 4: double (nullable = true)\n |-- 5: double (nullable = true)\n |-- 6: double (nullable = true)\n |-- 7: double (nullable = true)\n |-- 8: double (nullable = true)\n |-- 9: double (nullable = true)\n |-- 10: double (nullable = true)\n |-- 11: double (nullable = true)\n |-- 12: double (nullable = true)\n\n+---------+-----+-----+-----+-----+-----+-----+-----+-----+------+-----+-----+-----+\n|Indicator|1    |2    |3    |4    |5    |6    |7    |8    |9     |10   |11   |12   |\n+---------+-----+-----+-----+-----+-----+-----+-----+-----+------+-----+-----+-----+\n|Profit   |100.0|100.0|100.0|100.0|100.0|100.0|100.0|100.0|100.0 |100.0|100.0|100.0|\n|Revenue  |500.0|500.0|500.0|500.0|555.0|777.0|800.0|900.0|1000.0|300.0|null |400.0|\n+---------+-----+-----+-----+-----+-----+-----+-----+-----+------+-----+-----+-----+\n\n"
     ]
    }
   ],
   "source": [
    "df_pivot = df_profit.groupBy(\"Indicator\").pivot(\"Month\").sum(\"Amount\")\n",
    "df_pivot.printSchema()\n",
    "df_pivot.show(truncate=False)"
   ]
  },
  {
   "cell_type": "code",
   "execution_count": 0,
   "metadata": {
    "application/vnd.databricks.v1+cell": {
     "cellMetadata": {},
     "inputWidgets": {},
     "nuid": "d251b953-6310-4484-90cc-b49c0c0801fb",
     "showTitle": false,
     "title": ""
    }
   },
   "outputs": [
    {
     "output_type": "stream",
     "name": "stdout",
     "output_type": "stream",
     "text": [
      "root\n |-- Indicator: string (nullable = true)\n |-- 1: double (nullable = true)\n |-- 2: double (nullable = true)\n |-- 3: double (nullable = true)\n |-- 4: double (nullable = true)\n |-- 5: double (nullable = true)\n |-- 6: double (nullable = true)\n |-- 7: double (nullable = true)\n |-- 8: double (nullable = true)\n |-- 9: double (nullable = true)\n |-- 10: double (nullable = true)\n |-- 11: double (nullable = true)\n |-- 12: double (nullable = true)\n\n+---------+-----+-----+-----+-----+-----+-----+-----+-----+------+-----+-----+-----+\n|Indicator|1    |2    |3    |4    |5    |6    |7    |8    |9     |10   |11   |12   |\n+---------+-----+-----+-----+-----+-----+-----+-----+-----+------+-----+-----+-----+\n|Profit   |100.0|100.0|100.0|100.0|100.0|100.0|100.0|100.0|100.0 |100.0|100.0|100.0|\n|Revenue  |500.0|500.0|500.0|500.0|555.0|777.0|800.0|900.0|1000.0|300.0|null |400.0|\n+---------+-----+-----+-----+-----+-----+-----+-----+-----+------+-----+-----+-----+\n\n"
     ]
    }
   ],
   "source": [
    "months = [1,2,3,4,5,6,7,8,9,10,11,12]\n",
    "df_pivot = df_profit.groupBy(\"Indicator\").pivot(\"Month\", months).sum(\"Amount\")\n",
    "df_pivot.printSchema()\n",
    "df_pivot.show(truncate=False)"
   ]
  },
  {
   "cell_type": "code",
   "execution_count": 0,
   "metadata": {
    "application/vnd.databricks.v1+cell": {
     "cellMetadata": {},
     "inputWidgets": {},
     "nuid": "241801cd-b299-4c44-9b95-431fd42b104d",
     "showTitle": false,
     "title": ""
    }
   },
   "outputs": [],
   "source": [
    "###UnPivot"
   ]
  },
  {
   "cell_type": "code",
   "execution_count": 0,
   "metadata": {
    "application/vnd.databricks.v1+cell": {
     "cellMetadata": {},
     "inputWidgets": {},
     "nuid": "2afa3a71-4cd5-4bb1-bc55-8d164ce8fccd",
     "showTitle": false,
     "title": ""
    }
   },
   "outputs": [
    {
     "output_type": "stream",
     "name": "stdout",
     "output_type": "stream",
     "text": [
      "+---------+-----+------+\n|Indicator|Month|Amount|\n+---------+-----+------+\n|Profit   |1    |100.0 |\n|Profit   |2    |100.0 |\n|Profit   |3    |100.0 |\n|Profit   |4    |100.0 |\n|Profit   |5    |100.0 |\n|Profit   |6    |100.0 |\n|Profit   |7    |100.0 |\n|Profit   |8    |100.0 |\n|Profit   |9    |100.0 |\n|Profit   |10   |100.0 |\n|Profit   |11   |100.0 |\n|Profit   |12   |100.0 |\n|Revenue  |1    |500.0 |\n|Revenue  |2    |500.0 |\n|Revenue  |3    |500.0 |\n|Revenue  |4    |500.0 |\n|Revenue  |5    |555.0 |\n|Revenue  |6    |777.0 |\n|Revenue  |7    |800.0 |\n|Revenue  |8    |900.0 |\n+---------+-----+------+\nonly showing top 20 rows\n\n"
     ]
    }
   ],
   "source": [
    "from pyspark.sql.functions import expr\n",
    "unPivotDF = df_pivot.unpivot(['Indicator'], ['1','2','3','4','5','6','7','8','9','10','11','12'],\\\n",
    "                             'Month', 'Amount')\n",
    "\n",
    "unPivotDF.show(truncate=False)\n"
   ]
  },
  {
   "cell_type": "code",
   "execution_count": 0,
   "metadata": {
    "application/vnd.databricks.v1+cell": {
     "cellMetadata": {},
     "inputWidgets": {},
     "nuid": "147fe3b4-5490-4e2f-9c46-d75e50fa6f78",
     "showTitle": false,
     "title": ""
    }
   },
   "outputs": [],
   "source": [
    "###Agregações"
   ]
  },
  {
   "cell_type": "markdown",
   "metadata": {
    "application/vnd.databricks.v1+cell": {
     "cellMetadata": {},
     "inputWidgets": {},
     "nuid": "283e5bd6-eb4b-4d2b-939c-f264ef52c705",
     "showTitle": false,
     "title": ""
    }
   },
   "source": [
    "count()\tUse groupBy() count() to return the number of rows for each group. <br>\n",
    "mean()\tReturns the mean of values for each group. <br>\n",
    "max()\tReturns the maximum of values for each group. <br>\n",
    "min()\tReturns the minimum of values for each group. <br>\n",
    "sum()\tReturns the total for values for each group. <br>\n",
    "avg()\tReturns the average for values for each group. <br>\n",
    "agg()\tUsing groupBy() agg() function, we can calculate more than one aggregate at a time. <br>"
   ]
  },
  {
   "cell_type": "code",
   "execution_count": 0,
   "metadata": {
    "application/vnd.databricks.v1+cell": {
     "cellMetadata": {},
     "inputWidgets": {},
     "nuid": "554da1a6-12e6-4428-9a85-895f4badcf4e",
     "showTitle": false,
     "title": ""
    }
   },
   "outputs": [
    {
     "output_type": "stream",
     "name": "stderr",
     "output_type": "stream",
     "text": [
      "                                                                                \r"
     ]
    },
    {
     "output_type": "execute_result",
     "data": {
      "text/plain": [
       "24"
      ]
     },
     "execution_count": 202,
     "metadata": {},
     "output_type": "execute_result"
    }
   ],
   "source": [
    "unPivotDF.count()"
   ]
  },
  {
   "cell_type": "code",
   "execution_count": 0,
   "metadata": {
    "application/vnd.databricks.v1+cell": {
     "cellMetadata": {},
     "inputWidgets": {},
     "nuid": "71a437c7-3578-4f35-8245-46113e8b61d0",
     "showTitle": false,
     "title": ""
    }
   },
   "outputs": [
    {
     "output_type": "stream",
     "name": "stdout",
     "output_type": "stream",
     "text": [
      "+---------+-----------+\n|Indicator|avg(Amount)|\n+---------+-----------+\n|   Profit|      100.0|\n|  Revenue|      612.0|\n+---------+-----------+\n\n"
     ]
    }
   ],
   "source": [
    "unPivotDF.groupBy('Indicator').mean('Amount').show()"
   ]
  },
  {
   "cell_type": "code",
   "execution_count": 0,
   "metadata": {
    "application/vnd.databricks.v1+cell": {
     "cellMetadata": {},
     "inputWidgets": {},
     "nuid": "111ece41-af7b-4494-8ad1-00ee4d9f6f7d",
     "showTitle": false,
     "title": ""
    }
   },
   "outputs": [
    {
     "output_type": "stream",
     "name": "stdout",
     "output_type": "stream",
     "text": [
      "+---------+-----------+\n|Indicator|max(Amount)|\n+---------+-----------+\n|   Profit|      100.0|\n|  Revenue|     1000.0|\n+---------+-----------+\n\n"
     ]
    }
   ],
   "source": [
    "unPivotDF.groupBy('Indicator').max('Amount').show()"
   ]
  },
  {
   "cell_type": "code",
   "execution_count": 0,
   "metadata": {
    "application/vnd.databricks.v1+cell": {
     "cellMetadata": {},
     "inputWidgets": {},
     "nuid": "fc338efe-56b1-40c7-84fd-ea283db7b31c",
     "showTitle": false,
     "title": ""
    }
   },
   "outputs": [
    {
     "output_type": "stream",
     "name": "stdout",
     "output_type": "stream",
     "text": [
      "+---------+-----------+\n|Indicator|min(Amount)|\n+---------+-----------+\n|   Profit|      100.0|\n|  Revenue|      300.0|\n+---------+-----------+\n\n"
     ]
    }
   ],
   "source": [
    "unPivotDF.groupBy('Indicator').min('Amount').show()"
   ]
  },
  {
   "cell_type": "code",
   "execution_count": 0,
   "metadata": {
    "application/vnd.databricks.v1+cell": {
     "cellMetadata": {},
     "inputWidgets": {},
     "nuid": "59b8db46-5e46-41dd-86f7-2c42c8b95dbc",
     "showTitle": false,
     "title": ""
    }
   },
   "outputs": [],
   "source": [
    "df_grouped = unPivotDF.groupBy('Indicator')"
   ]
  },
  {
   "cell_type": "code",
   "execution_count": 0,
   "metadata": {
    "application/vnd.databricks.v1+cell": {
     "cellMetadata": {},
     "inputWidgets": {},
     "nuid": "2563a148-0ccf-41f8-bbe7-049672ecb78e",
     "showTitle": false,
     "title": ""
    }
   },
   "outputs": [],
   "source": [
    "from pyspark.sql import types as T, functions as F"
   ]
  },
  {
   "cell_type": "code",
   "execution_count": 0,
   "metadata": {
    "application/vnd.databricks.v1+cell": {
     "cellMetadata": {},
     "inputWidgets": {},
     "nuid": "96bcf816-5c02-44d7-8da3-99d2546f11e4",
     "showTitle": false,
     "title": ""
    }
   },
   "outputs": [
    {
     "output_type": "stream",
     "name": "stdout",
     "output_type": "stream",
     "text": [
      "+---------+------------------------------------------------------------------------------------+\n|Indicator|collect_list(Amount)                                                                |\n+---------+------------------------------------------------------------------------------------+\n|Profit   |[100.0, 100.0, 100.0, 100.0, 100.0, 100.0, 100.0, 100.0, 100.0, 100.0, 100.0, 100.0]|\n|Revenue  |[500.0, 500.0, 500.0, 500.0, 555.0, 777.0, 800.0, 900.0, 1000.0, 300.0, 400.0]      |\n+---------+------------------------------------------------------------------------------------+\n\n"
     ]
    }
   ],
   "source": [
    "df_grouped.agg(F.collect_list(F.col('Amount'))\n",
    "              ).show(truncate = False)"
   ]
  },
  {
   "cell_type": "code",
   "execution_count": 0,
   "metadata": {
    "application/vnd.databricks.v1+cell": {
     "cellMetadata": {},
     "inputWidgets": {},
     "nuid": "248d6b58-e656-4718-8b21-99fe9712c169",
     "showTitle": false,
     "title": ""
    }
   },
   "outputs": [
    {
     "output_type": "stream",
     "name": "stdout",
     "output_type": "stream",
     "text": [
      "+------+--------------------+----------+----------+\n|job_id|           jod_title|min_salary|max_salary|\n+------+--------------------+----------+----------+\n|     1|   Public Accountant|    4200.0|    9000.0|\n|     2|  Accounting Manager|    8200.0|   16000.0|\n|     3|Administration As...|    3000.0|    6000.0|\n|     4|           President|   20000.0|   40000.0|\n|     5|Administration Vi...|   15000.0|   30000.0|\n|     6|          Accountant|    4200.0|    9000.0|\n|     7|     Finance Manager|    8200.0|   16000.0|\n|     8|Human Resources R...|    4000.0|    9000.0|\n|     9|          Programmer|    4000.0|   10000.0|\n|    10|   Marketing Manager|    9000.0|   15000.0|\n|    11|Marketing Represe...|    4000.0|    9000.0|\n|    12|Public Relations ...|    4500.0|   10500.0|\n|    13|    Purchasing Clerk|    2500.0|    5500.0|\n|    14|  Purchasing Manager|    8000.0|   15000.0|\n|    15|       Sales Manager|   10000.0|   20000.0|\n|    16|Sales Representative|    6000.0|   12000.0|\n|    17|      Shipping Clerk|    2500.0|    5500.0|\n|    18|         Stock Clerk|    2000.0|    5000.0|\n|    19|       Stock Manager|    5500.0|    8500.0|\n+------+--------------------+----------+----------+\n\n"
     ]
    }
   ],
   "source": [
    "df_jobs.show()"
   ]
  },
  {
   "cell_type": "code",
   "execution_count": 0,
   "metadata": {
    "application/vnd.databricks.v1+cell": {
     "cellMetadata": {},
     "inputWidgets": {},
     "nuid": "48f5238c-6c55-4864-8da7-4b028eec733a",
     "showTitle": false,
     "title": ""
    }
   },
   "outputs": [],
   "source": [
    "condicao = df_employees.job_id == df_jobs.job_id\n",
    "df_jobs_joined = df_jobs.join(df_employees, condicao , 'inner').select(df_employees['*'],\\\n",
    "                                                                       df_jobs['jod_title'],\\\n",
    "                                                                       df_jobs['min_salary'],\\\n",
    "                                                                       df_jobs['max_salary'])"
   ]
  },
  {
   "cell_type": "code",
   "execution_count": 0,
   "metadata": {
    "application/vnd.databricks.v1+cell": {
     "cellMetadata": {},
     "inputWidgets": {},
     "nuid": "d8f0060b-97e8-48bf-abc9-c3ac9de84bee",
     "showTitle": false,
     "title": ""
    }
   },
   "outputs": [
    {
     "output_type": "stream",
     "name": "stdout",
     "output_type": "stream",
     "text": [
      "+-----------+-----------+----------+--------------------+------------+----------+------+-------+----------+-------------+--------------------+----------+----------+\n|employee_id| first_name| last_name|               email|phone_number| hire_date|job_id| salary|manager_id|department_id|           jod_title|min_salary|max_salary|\n+-----------+-----------+----------+--------------------+------------+----------+------+-------+----------+-------------+--------------------+----------+----------+\n|        100|     Steven|      King|steven.king@sqltu...|515.123.4567|1987-06-17|     4|24000.0|      NULL|            9|           President|   20000.0|   40000.0|\n|        101|      Neena|   Kochhar|neena.kochhar@sql...|515.123.4568|1989-09-21|     5|17000.0|       100|            9|Administration Vi...|   15000.0|   30000.0|\n|        102|        Lex|   De Haan|lex.de haan@sqltu...|515.123.4569|1993-01-13|     5|17000.0|       100|            9|Administration Vi...|   15000.0|   30000.0|\n|        103|  Alexander|    Hunold|alexander.hunold@...|590.423.4567|1990-01-03|     9| 9000.0|       102|            6|          Programmer|    4000.0|   10000.0|\n|        104|      Bruce|     Ernst|bruce.ernst@sqltu...|590.423.4568|1991-05-21|     9| 6000.0|       103|            6|          Programmer|    4000.0|   10000.0|\n|        105|      David|    Austin|david.austin@sqlt...|590.423.4569|1997-06-25|     9| 4800.0|       103|            6|          Programmer|    4000.0|   10000.0|\n|        106|      Valli| Pataballa|valli.pataballa@s...|590.423.4560|1998-02-05|     9| 4800.0|       103|            6|          Programmer|    4000.0|   10000.0|\n|        107|      Diana|   Lorentz|diana.lorentz@sql...|590.423.5567|1999-02-07|     9| 4200.0|       103|            6|          Programmer|    4000.0|   10000.0|\n|        108|      Nancy| Greenberg|nancy.greenberg@s...|515.124.4569|1994-08-17|     7|12000.0|       101|           10|     Finance Manager|    8200.0|   16000.0|\n|        109|     Daniel|    Faviet|daniel.faviet@sql...|515.124.4169|1994-08-16|     6| 9000.0|       108|           10|          Accountant|    4200.0|    9000.0|\n|        110|       John|      Chen|john.chen@sqltuto...|515.124.4269|1997-09-28|     6| 8200.0|       108|           10|          Accountant|    4200.0|    9000.0|\n|        111|     Ismael|   Sciarra|ismael.sciarra@sq...|515.124.4369|1997-09-30|     6| 7700.0|       108|           10|          Accountant|    4200.0|    9000.0|\n|        112|Jose Manuel|     Urman|jose manuel.urman...|515.124.4469|1998-03-07|     6| 7800.0|       108|           10|          Accountant|    4200.0|    9000.0|\n|        113|       Luis|      Popp|luis.popp@sqltuto...|515.124.4567|1999-12-07|     6| 6900.0|       108|           10|          Accountant|    4200.0|    9000.0|\n|        114|        Den|  Raphaely|den.raphaely@sqlt...|515.127.4561|1994-12-07|    14|11000.0|       100|            3|  Purchasing Manager|    8000.0|   15000.0|\n|        115|  Alexander|      Khoo|alexander.khoo@sq...|515.127.4562|1995-05-18|    13| 3100.0|       114|            3|    Purchasing Clerk|    2500.0|    5500.0|\n|        116|     Shelli|     Baida|shelli.baida@sqlt...|515.127.4563|1997-12-24|    13| 2900.0|       114|            3|    Purchasing Clerk|    2500.0|    5500.0|\n|        117|      Sigal|    Tobias|sigal.tobias@sqlt...|515.127.4564|1997-07-24|    13| 2800.0|       114|            3|    Purchasing Clerk|    2500.0|    5500.0|\n|        118|        Guy|    Himuro|guy.himuro@sqltut...|515.127.4565|1998-11-15|    13| 2600.0|       114|            3|    Purchasing Clerk|    2500.0|    5500.0|\n|        119|      Karen|Colmenares|karen.colmenares@...|515.127.4566|1999-08-10|    13| 2500.0|       114|            3|    Purchasing Clerk|    2500.0|    5500.0|\n+-----------+-----------+----------+--------------------+------------+----------+------+-------+----------+-------------+--------------------+----------+----------+\nonly showing top 20 rows\n\n"
     ]
    }
   ],
   "source": [
    "df_jobs_joined.show()"
   ]
  },
  {
   "cell_type": "code",
   "execution_count": 0,
   "metadata": {
    "application/vnd.databricks.v1+cell": {
     "cellMetadata": {},
     "inputWidgets": {},
     "nuid": "02679955-3a27-4d15-87f3-867a72181b4e",
     "showTitle": false,
     "title": ""
    }
   },
   "outputs": [
    {
     "output_type": "stream",
     "name": "stdout",
     "output_type": "stream",
     "text": [
      "+---------+------+-----+\n|Indicator|   sum| mean|\n+---------+------+-----+\n|   Profit|1200.0|100.0|\n|  Revenue|6732.0|612.0|\n+---------+------+-----+\n\n"
     ]
    }
   ],
   "source": [
    "from pyspark.sql.functions import sum,avg,max,count,mean\n",
    "\n",
    "unPivotDF.groupBy('Indicator').agg(\n",
    "    sum('Amount').alias('sum'),\n",
    "    mean('Amount').alias('mean')\n",
    ").show()"
   ]
  },
  {
   "cell_type": "code",
   "execution_count": 0,
   "metadata": {
    "application/vnd.databricks.v1+cell": {
     "cellMetadata": {},
     "inputWidgets": {},
     "nuid": "af3a18dd-1c94-48de-96e4-dddd8b616bc0",
     "showTitle": false,
     "title": ""
    }
   },
   "outputs": [],
   "source": []
  },
  {
   "cell_type": "code",
   "execution_count": 0,
   "metadata": {
    "application/vnd.databricks.v1+cell": {
     "cellMetadata": {},
     "inputWidgets": {},
     "nuid": "41738ddc-c78d-4210-8468-d28fa11df660",
     "showTitle": false,
     "title": ""
    }
   },
   "outputs": [],
   "source": []
  },
  {
   "cell_type": "code",
   "execution_count": 0,
   "metadata": {
    "application/vnd.databricks.v1+cell": {
     "cellMetadata": {},
     "inputWidgets": {},
     "nuid": "58c90ea6-ed66-4f74-b894-9b367c9ac2d5",
     "showTitle": false,
     "title": ""
    }
   },
   "outputs": [],
   "source": []
  },
  {
   "cell_type": "code",
   "execution_count": 0,
   "metadata": {
    "application/vnd.databricks.v1+cell": {
     "cellMetadata": {},
     "inputWidgets": {},
     "nuid": "ff1ea384-47f5-4d5e-892d-dc245641f528",
     "showTitle": false,
     "title": ""
    }
   },
   "outputs": [],
   "source": []
  },
  {
   "cell_type": "code",
   "execution_count": 0,
   "metadata": {
    "application/vnd.databricks.v1+cell": {
     "cellMetadata": {},
     "inputWidgets": {},
     "nuid": "73cd16b0-ccbb-447b-906e-0d600513a28e",
     "showTitle": false,
     "title": ""
    }
   },
   "outputs": [],
   "source": []
  },
  {
   "cell_type": "code",
   "execution_count": 0,
   "metadata": {
    "application/vnd.databricks.v1+cell": {
     "cellMetadata": {},
     "inputWidgets": {},
     "nuid": "99be22fe-7fb9-46cd-80e4-a5031205667e",
     "showTitle": false,
     "title": ""
    }
   },
   "outputs": [],
   "source": []
  }
 ],
 "metadata": {
  "application/vnd.databricks.v1+notebook": {
   "dashboards": [],
   "language": "python",
   "notebookMetadata": {
    "pythonIndentUnit": 4
   },
   "notebookName": "Agrupamento_Juncao_Uniao_Pivot",
   "widgets": {}
  },
  "kernelspec": {
   "display_name": "Python 3 (ipykernel)",
   "language": "python",
   "name": "python3"
  },
  "language_info": {
   "codemirror_mode": {
    "name": "ipython",
    "version": 3
   },
   "file_extension": ".py",
   "mimetype": "text/x-python",
   "name": "python",
   "nbconvert_exporter": "python",
   "pygments_lexer": "ipython3",
   "version": "3.11.6"
  }
 },
 "nbformat": 4,
 "nbformat_minor": 0
}
