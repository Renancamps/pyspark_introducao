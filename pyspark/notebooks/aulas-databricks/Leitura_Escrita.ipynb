{
 "cells": [
  {
   "cell_type": "code",
   "execution_count": 7,
   "id": "7083e943",
   "metadata": {},
   "outputs": [],
   "source": [
    "from pyspark.sql import SparkSession\n",
    "from pyspark.sql.functions import col\n",
    "from pyspark.sql.types import StructType,StructField, StringType, IntegerType, FloatType\n",
    "import pyspark.sql.functions as F"
   ]
  },
  {
   "cell_type": "code",
   "execution_count": 8,
   "id": "b2cb6161",
   "metadata": {},
   "outputs": [],
   "source": [
    "\n",
    "spark = SparkSession.builder \\\n",
    "    .master('local[*]') \\\n",
    "    .appName(\"Iniciando com Spark\") \\\n",
    "    .getOrCreate()"
   ]
  },
  {
   "cell_type": "markdown",
   "id": "eb4cb882",
   "metadata": {},
   "source": [
    "### Lendo CSV"
   ]
  },
  {
   "cell_type": "markdown",
   "id": "42d60717",
   "metadata": {},
   "source": [
    "Opções mais comuns:\n",
    "* header\n",
    "* inferSchema\n",
    "* sep\n",
    "* encoding"
   ]
  },
  {
   "cell_type": "markdown",
   "id": "4ab1283d",
   "metadata": {},
   "source": [
    "### DataFrameReader"
   ]
  },
  {
   "cell_type": "markdown",
   "id": "5fc47554",
   "metadata": {},
   "source": [
    "```\n",
    "spark.read.format(format).option(args).load(file/path)\n",
    "```"
   ]
  },
  {
   "cell_type": "markdown",
   "id": "d7d6e2e0",
   "metadata": {},
   "source": [
    "### Opção de leitura 1"
   ]
  },
  {
   "cell_type": "code",
   "execution_count": 9,
   "id": "8fc66b6b",
   "metadata": {},
   "outputs": [],
   "source": [
    "path_countries = '../../datalake/transient/company/countries/'\n",
    "df_countries = spark.read.format('csv').load(path_countries,header='True',sep=\",\",quote=\"'\")"
   ]
  },
  {
   "cell_type": "code",
   "execution_count": 10,
   "id": "4161462c",
   "metadata": {},
   "outputs": [
    {
     "name": "stdout",
     "output_type": "stream",
     "text": [
      "+----------+------------+---------+\n",
      "|country_id|country_name|region_id|\n",
      "+----------+------------+---------+\n",
      "|        AR|   Argentina|        2|\n",
      "|        AU|   Australia|        3|\n",
      "+----------+------------+---------+\n",
      "only showing top 2 rows\n",
      "\n"
     ]
    }
   ],
   "source": [
    "df_countries.show(2)"
   ]
  },
  {
   "cell_type": "markdown",
   "id": "14bab864",
   "metadata": {},
   "source": [
    "### Opção de leitura 2"
   ]
  },
  {
   "cell_type": "code",
   "execution_count": 11,
   "id": "3bb03eca",
   "metadata": {},
   "outputs": [],
   "source": [
    "path_countries = '../../datalake/transient/company/countries/'\n",
    "\n",
    "df_countries = spark.read.format(\"csv\")\\\n",
    "            .option(\"header\", True)\\\n",
    "            .option(\"sep\", \",\")\\\n",
    "            .option(\"quote\",\"'\")\\\n",
    "            .option(\"inferSchema\",True)\\\n",
    "            .load(path_countries)"
   ]
  },
  {
   "cell_type": "code",
   "execution_count": 12,
   "id": "9c04204b",
   "metadata": {},
   "outputs": [
    {
     "name": "stdout",
     "output_type": "stream",
     "text": [
      "+----------+------------+---------+\n",
      "|country_id|country_name|region_id|\n",
      "+----------+------------+---------+\n",
      "|AR        |Argentina   |2        |\n",
      "|AU        |Australia   |3        |\n",
      "+----------+------------+---------+\n",
      "only showing top 2 rows\n",
      "\n"
     ]
    }
   ],
   "source": [
    "df_countries.show(2,truncate=False)"
   ]
  },
  {
   "cell_type": "markdown",
   "id": "75af4973",
   "metadata": {},
   "source": [
    "### Opção de leitura 3"
   ]
  },
  {
   "cell_type": "code",
   "execution_count": 13,
   "id": "d22ad11b",
   "metadata": {},
   "outputs": [
    {
     "name": "stdout",
     "output_type": "stream",
     "text": [
      "+----------+------------+---------+\n",
      "|country_id|country_name|region_id|\n",
      "+----------+------------+---------+\n",
      "|        AR|   Argentina|        2|\n",
      "|        AU|   Australia|        3|\n",
      "+----------+------------+---------+\n",
      "\n"
     ]
    }
   ],
   "source": [
    "path_countries = '../../datalake/transient/company/countries/'\n",
    "options_dict = {\n",
    "    'sep': ',',\n",
    "    'header': 'true',\n",
    "    'quote': '\\''\n",
    "}\n",
    "\n",
    "df = (\n",
    "    spark.read\n",
    "    .format('csv')\n",
    "    .options(**options_dict)\n",
    "    .schema('country_id string, country_name string, region_id string')\n",
    "    .load(path_countries)\n",
    ")\n",
    "df.limit(2).show()"
   ]
  },
  {
   "cell_type": "markdown",
   "id": "53e9da18",
   "metadata": {},
   "source": [
    "### Escrevendo CSV"
   ]
  },
  {
   "cell_type": "markdown",
   "id": "f7cae2a5",
   "metadata": {},
   "source": [
    "```\n",
    "df.write.format(format).option(args).save(file/path)\n",
    "```"
   ]
  },
  {
   "cell_type": "code",
   "execution_count": 15,
   "id": "bc5c4e40",
   "metadata": {},
   "outputs": [],
   "source": [
    "path_countries = '../../datalake/transient/wrote/csv/company/countries/'\n",
    "df.write.format('csv').save(path_countries + 'countries.csv', header=True,sep = ',',  quote = '\\'' )"
   ]
  },
  {
   "cell_type": "markdown",
   "id": "57703be5",
   "metadata": {},
   "source": [
    "### Lendo Json"
   ]
  },
  {
   "cell_type": "code",
   "execution_count": 32,
   "id": "2f237091",
   "metadata": {},
   "outputs": [],
   "source": [
    "path_json = '../../datalake/transient/json/invoices/'\n",
    "df_json = spark.read.format('json').load(path_json)"
   ]
  },
  {
   "cell_type": "code",
   "execution_count": 34,
   "id": "a6117144",
   "metadata": {},
   "outputs": [
    {
     "name": "stdout",
     "output_type": "stream",
     "text": [
      "+------------------+------------------+---------+-------------+--------------+------------+---------------------------------------------------------------------------------------+-------------+--------------------------------------------------------------------------------------------------------------------------------------------------------------------------------+-------------+-------------+-------------+------+------------------+-------+-------------+-----------+\n",
      "|CESS              |CGST              |CashierID|CreatedTime  |CustomerCardNo|CustomerType|DeliveryAddress                                                                        |DeliveryType |InvoiceLineItems                                                                                                                                                                |InvoiceNumber|NumberOfItems|PaymentMethod|PosID |SGST              |StoreID|TaxableAmount|TotalAmount|\n",
      "+------------------+------------------+---------+-------------+--------------+------------+---------------------------------------------------------------------------------------+-------------+--------------------------------------------------------------------------------------------------------------------------------------------------------------------------------+-------------+-------------+-------------+------+------------------+-------+-------------+-----------+\n",
      "|11.25             |225.0             |OAS845   |1595689270697|8790333340    |PRIME       |{House No 383, 4427 Pellentesque Rd., Bokaro Steel City, 1442202063, 509723, Jharkhand}|HOME-DELIVERY|[{258, Closet, 1687.0, 2, 3374.0}, {538, Grandmother clock, 1301.0, 1, 1301.0}, {528, Projection clock, 2365.0, 1, 2365.0}, {673, Dough scraper, 980.0, 2, 1960.0}]             |94201418     |4            |CASH         |POS365|225.0             |STR7443|9000.0       |9000.0     |\n",
      "|9.557500000000001 |191.15            |OAS287   |1595689270697|7589671731    |PRIME       |{1852 Est St., Imphal, 6124913142, 120023, Manipur}                                    |HOME-DELIVERY|[{593, Hanging curtains, 1896.0, 2, 3792.0}, {308, Butterfly chair, 857.0, 2, 1714.0}, {383, Innerspring Mattress, 655.0, 1, 655.0}, {423, Quilt, 1485.0, 1, 1485.0}]           |8749479      |4            |CASH         |POS872|191.15            |STR5864|7646.0       |7646.0     |\n",
      "|9.31625           |186.32500000000002|OAS737   |1595689270798|2461788838    |NONPRIME    |{House No 740, 6689 Tempor Av., Bharatpur, 8563079826, 932264, Rajasthan}              |HOME-DELIVERY|[{528, Projection clock, 2365.0, 2, 4730.0}, {503, Chef's knife, 1973.0, 1, 1973.0}, {653, Browning tray, 375.0, 2, 750.0}]                                                     |91509413     |3            |CARD         |POS253|186.32500000000002|STR2629|7453.0       |7453.0     |\n",
      "|5.0075            |100.15            |OAS287   |1595689270798|7589671731    |PRIME       |{Flat No. #335-7984 Senectus Rd., Pali, 6125618251, 900530, Rajasthan}                 |HOME-DELIVERY|[{238, Dining table, 1582.0, 2, 3164.0}, {273, Bedroom set, 842.0, 1, 842.0}]                                                                                                   |54315437     |2            |CASH         |POS872|100.15            |STR5864|4006.0       |4006.0     |\n",
      "|4.11              |82.2              |OAS329   |1595689270798|3027514652    |PRIME       |null                                                                                   |TAKEAWAY     |[{458, Wine glass, 1644.0, 2, 3288.0}]                                                                                                                                          |84526449     |1            |CASH         |POS152|82.2              |STR2952|3288.0       |3288.0     |\n",
      "|2.3675            |47.35             |OAS969   |1595689270898|8189067868    |NONPRIME    |null                                                                                   |TAKEAWAY     |[{268, Floating shelf, 1894.0, 1, 1894.0}]                                                                                                                                      |4014389      |1            |CASH         |POS353|47.35             |STR5494|1894.0       |1894.0     |\n",
      "|2.44375           |48.875            |OAS311   |1595689270898|4692642935    |PRIME       |{8612 Non Rd., Guna, 8336980338, 210683, Madhya Pradesh}                               |HOME-DELIVERY|[{643, Blow torch, 1955.0, 1, 1955.0}]                                                                                                                                          |36524242     |1            |CASH         |POS129|48.875            |STR3781|1955.0       |1955.0     |\n",
      "|3.68              |73.60000000000001 |OAS285   |1595689270898|5582740626    |PRIME       |null                                                                                   |TAKEAWAY     |[{668, Crab cracker, 785.0, 1, 785.0}, {658, Chinois, 567.0, 1, 567.0}, {633, Cafe Curtains, 796.0, 2, 1592.0}]                                                                 |35058148     |3            |CARD         |POS135|73.60000000000001 |STR1534|2944.0       |2944.0     |\n",
      "|2.87125           |57.425000000000004|OAS622   |1595689270999|7829975914    |NONPRIME    |{7409 Laoreet Rd., Jammu, 8335722151, 697806, Jammu and Kashmir}                       |HOME-DELIVERY|[{233, Coffee table, 1055.0, 1, 1055.0}, {408, Confidante, 1242.0, 1, 1242.0}]                                                                                                  |95067626     |2            |CASH         |POS172|57.425000000000004|STR2629|2297.0       |2297.0     |\n",
      "|0.96625           |19.325000000000003|OAS183   |1595689270999|3916555911    |NONPRIME    |{529-4520 Libero. Ave, Raigarh, 3057906681, 183678, Chhattisgarh}                      |HOME-DELIVERY|[{398, Latex Mattress, 773.0, 1, 773.0}]                                                                                                                                        |17921881     |1            |CASH         |POS324|19.325000000000003|STR1955|773.0        |773.0      |\n",
      "|4.53              |90.60000000000001 |OAS689   |1595689270999|2220404140    |PRIME       |{Flat No. #335-7984 Senectus Rd., Pali, 6125618251, 900530, Rajasthan}                 |HOME-DELIVERY|[{288, Hutch, 1812.0, 2, 3624.0}]                                                                                                                                               |27927027     |1            |CASH         |POS968|90.60000000000001 |STR5646|3624.0       |3624.0     |\n",
      "|8.2075            |164.15            |OAS515   |1595689271099|1053863739    |PRIME       |null                                                                                   |TAKEAWAY     |[{483, Teacups and saucers, 1781.0, 1, 1781.0}, {608, Pleated Drapes, 1684.0, 2, 3368.0}, {403, Adjustable Air Mattress, 1417.0, 1, 1417.0}]                                    |27582761     |3            |CASH         |POS647|164.15            |STR2629|6566.0       |6566.0     |\n",
      "|7.4350000000000005|148.70000000000002|OAS287   |1595689271099|7589671731    |PRIME       |{773 Eu Ave, Sitapur, 9934440762, 431667, Uttar Pradesh}                               |HOME-DELIVERY|[{243, Folding table, 738.0, 2, 1476.0}, {283, Portable Lamps, 2236.0, 2, 4472.0}]                                                                                              |68779313     |2            |CASH         |POS872|148.70000000000002|STR5864|5948.0       |5948.0     |\n",
      "|8.33375           |166.675           |OAS634   |1595689271099|1682244797    |PRIME       |{6226 Mauris St., Ingraj Bazar, 8382307048, 592487, West Bengal}                       |HOME-DELIVERY|[{618, Pencil Pleat Drapes, 1140.0, 1, 1140.0}, {648, Bottle opener, 321.0, 2, 642.0}, {613, Goblet Pleat Drapes, 1583.0, 1, 1583.0}, {553, Banjo clock, 1651.0, 2, 3302.0}]    |69885603     |4            |CASH         |POS115|166.675           |STR7255|6667.0       |6667.0     |\n",
      "|1.78              |35.6              |OAS329   |1595689271199|7051101351    |PRIME       |{529-4520 Libero. Ave, Raigarh, 3057906681, 183678, Chhattisgarh}                      |HOME-DELIVERY|[{498, Carving knifes, 1424.0, 1, 1424.0}]                                                                                                                                      |80892932     |1            |CASH         |POS825|35.6              |STR7188|1424.0       |1424.0     |\n",
      "|3.395             |67.9              |OAS755   |1595689271199|5196911608    |NONPRIME    |null                                                                                   |TAKEAWAY     |[{473, Mason jars, 1358.0, 2, 2716.0}]                                                                                                                                          |42127776     |1            |CARD         |POS935|67.9              |STR8311|2716.0       |2716.0     |\n",
      "|13.2475           |264.95            |OAS812   |1595689271199|8891304816    |NONPRIME    |null                                                                                   |TAKEAWAY     |[{513, Flip clock, 1259.0, 1, 1259.0}, {533, Rolling ball clock, 1651.0, 1, 1651.0}, {433, Depression glass, 1950.0, 2, 3900.0}, {268, Floating shelf, 1894.0, 2, 3788.0}]      |70991756     |4            |CASH         |POS692|264.95            |STR7255|10598.0      |10598.0    |\n",
      "|15.44             |308.8             |OAS576   |1595689271299|9724245321    |PRIME       |{7711 Ac Avenue, Raigarh, 1952031107, 282126, Chhattisgarh}                            |HOME-DELIVERY|[{533, Rolling ball clock, 1651.0, 1, 1651.0}, {393, Hybrid Mattress, 2217.0, 2, 4434.0}, {443, Margarita glass, 2475.0, 1, 2475.0}, {593, Hanging curtains, 1896.0, 2, 3792.0}]|49721293     |4            |CASH         |POS722|308.8             |STR5494|12352.0      |12352.0    |\n",
      "|4.32875           |86.575            |OAS186   |1595689271299|3996109634    |NONPRIME    |{7418 Dolor St., Nagpur, 3018429913, 710782, Maharastra}                               |HOME-DELIVERY|[{353, Recliner, 1585.0, 1, 1585.0}, {383, Innerspring Mattress, 655.0, 1, 655.0}, {328, Dining chair, 1223.0, 1, 1223.0}]                                                      |8112141      |3            |CARD         |POS927|86.575            |STR6347|3463.0       |3463.0     |\n",
      "|8.905             |178.10000000000002|OAS354   |1595689271299|2599848717    |NONPRIME    |null                                                                                   |TAKEAWAY     |[{648, Bottle opener, 321.0, 1, 321.0}, {443, Margarita glass, 2475.0, 1, 2475.0}, {698, Meat grinder, 1250.0, 2, 2500.0}, {598, Grommet Curtains, 914.0, 2, 1828.0}]           |10041166     |4            |CARD         |POS881|178.10000000000002|STR8513|7124.0       |7124.0     |\n",
      "+------------------+------------------+---------+-------------+--------------+------------+---------------------------------------------------------------------------------------+-------------+--------------------------------------------------------------------------------------------------------------------------------------------------------------------------------+-------------+-------------+-------------+------+------------------+-------+-------------+-----------+\n",
      "only showing top 20 rows\n",
      "\n"
     ]
    }
   ],
   "source": [
    "df_json.show(truncate=False)"
   ]
  },
  {
   "cell_type": "code",
   "execution_count": 58,
   "id": "028d04bc",
   "metadata": {},
   "outputs": [],
   "source": [
    "path_json = '../../datalake/transient/json/zipcodes/'\n",
    "df_zip = spark.read.format('json').option(\"multiline\",\"true\").load(path_json)"
   ]
  },
  {
   "cell_type": "code",
   "execution_count": 59,
   "id": "a3737eea",
   "metadata": {},
   "outputs": [
    {
     "name": "stdout",
     "output_type": "stream",
     "text": [
      "+-------------------+------------+-----+-----------+-------+\n",
      "|               City|RecordNumber|State|ZipCodeType|Zipcode|\n",
      "+-------------------+------------+-----+-----------+-------+\n",
      "|PASEO COSTA DEL SUR|           2|   PR|   STANDARD|    704|\n",
      "|       BDA SAN LUIS|          10|   PR|   STANDARD|    709|\n",
      "+-------------------+------------+-----+-----------+-------+\n",
      "\n"
     ]
    }
   ],
   "source": [
    "df_zip.show()"
   ]
  },
  {
   "cell_type": "markdown",
   "id": "573af3d9",
   "metadata": {},
   "source": [
    "### Escrevendo JSON"
   ]
  },
  {
   "cell_type": "code",
   "execution_count": 62,
   "id": "2c63b516",
   "metadata": {},
   "outputs": [],
   "source": [
    "path_json = '../../datalake/transient/wrote/json/zipcodes/'\n",
    "df_zip.write.format('json').save(path_json )"
   ]
  },
  {
   "cell_type": "markdown",
   "id": "16ef7d05",
   "metadata": {},
   "source": [
    "### Lendo e Escrevendo Parquet"
   ]
  },
  {
   "cell_type": "markdown",
   "id": "7371cda7",
   "metadata": {},
   "source": [
    "* Armazenamento colunar, operações bem mais eficientes ;\n",
    "* Salva os Metadados, como os tipos das colunas, não é necessário especificar schemas para arquivos parquet;\n",
    "* Suporta dados estruturados de forma aninhada ( listas)\n",
    "* Processamento de dados particionados com volume na casa dos gigabytes por arquivo arquivo;\n",
    "* Compressão de dados na escrita, de forma a ocupar menos espaço;\n",
    "* Integrado com AWS Athena, Amazon Redshift Spectrum, Google BigQuery , Google Dataproc, e outras"
   ]
  },
  {
   "cell_type": "markdown",
   "id": "4cd4cf04",
   "metadata": {},
   "source": [
    "### mode:\n",
    "\n",
    "* append: arquivos empilhados aos ja existentes\n",
    "* ignore: retorna um erro silencioso\n",
    "* overwrite: sobrescreve os dados já existente\n",
    "* error (default): retorne erro se já existem dados"
   ]
  },
  {
   "cell_type": "code",
   "execution_count": 63,
   "id": "34f05c17",
   "metadata": {},
   "outputs": [],
   "source": [
    "path_json = '../../datalake/transient/json/invoices/'\n",
    "df_json = spark.read.format('json').load(path_json)\n",
    "\n",
    "\n",
    "\n",
    "path_dest = '../../datalake/bronze/invoices/'\n",
    "df_json.write.format('parquet').mode('overwrite').save(path_dest )"
   ]
  },
  {
   "cell_type": "code",
   "execution_count": 64,
   "id": "7315889a",
   "metadata": {},
   "outputs": [],
   "source": [
    "df_parquet = spark.read.format('parquet').load(path_dest)"
   ]
  },
  {
   "cell_type": "code",
   "execution_count": 65,
   "id": "5b07f6b4",
   "metadata": {},
   "outputs": [
    {
     "name": "stdout",
     "output_type": "stream",
     "text": [
      "root\n",
      " |-- CESS: double (nullable = true)\n",
      " |-- CGST: double (nullable = true)\n",
      " |-- CashierID: string (nullable = true)\n",
      " |-- CreatedTime: long (nullable = true)\n",
      " |-- CustomerCardNo: string (nullable = true)\n",
      " |-- CustomerType: string (nullable = true)\n",
      " |-- DeliveryAddress: struct (nullable = true)\n",
      " |    |-- AddressLine: string (nullable = true)\n",
      " |    |-- City: string (nullable = true)\n",
      " |    |-- ContactNumber: string (nullable = true)\n",
      " |    |-- PinCode: string (nullable = true)\n",
      " |    |-- State: string (nullable = true)\n",
      " |-- DeliveryType: string (nullable = true)\n",
      " |-- InvoiceLineItems: array (nullable = true)\n",
      " |    |-- element: struct (containsNull = true)\n",
      " |    |    |-- ItemCode: string (nullable = true)\n",
      " |    |    |-- ItemDescription: string (nullable = true)\n",
      " |    |    |-- ItemPrice: double (nullable = true)\n",
      " |    |    |-- ItemQty: long (nullable = true)\n",
      " |    |    |-- TotalValue: double (nullable = true)\n",
      " |-- InvoiceNumber: string (nullable = true)\n",
      " |-- NumberOfItems: long (nullable = true)\n",
      " |-- PaymentMethod: string (nullable = true)\n",
      " |-- PosID: string (nullable = true)\n",
      " |-- SGST: double (nullable = true)\n",
      " |-- StoreID: string (nullable = true)\n",
      " |-- TaxableAmount: double (nullable = true)\n",
      " |-- TotalAmount: double (nullable = true)\n",
      "\n"
     ]
    }
   ],
   "source": [
    "df_parquet.printSchema()"
   ]
  },
  {
   "cell_type": "code",
   "execution_count": null,
   "id": "cd2b9436",
   "metadata": {},
   "outputs": [],
   "source": []
  }
 ],
 "metadata": {
  "kernelspec": {
   "display_name": "Python 3 (ipykernel)",
   "language": "python",
   "name": "python3"
  },
  "language_info": {
   "codemirror_mode": {
    "name": "ipython",
    "version": 3
   },
   "file_extension": ".py",
   "mimetype": "text/x-python",
   "name": "python",
   "nbconvert_exporter": "python",
   "pygments_lexer": "ipython3",
   "version": "3.11.6"
  }
 },
 "nbformat": 4,
 "nbformat_minor": 5
}
